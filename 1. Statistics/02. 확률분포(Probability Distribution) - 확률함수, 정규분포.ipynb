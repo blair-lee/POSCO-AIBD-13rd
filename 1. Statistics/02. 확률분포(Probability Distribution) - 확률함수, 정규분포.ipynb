{
 "cells": [
  {
   "cell_type": "markdown",
   "id": "renewable-convergence",
   "metadata": {},
   "source": [
    "# 0. 확률(Probability)\n",
    "---"
   ]
  },
  {
   "cell_type": "markdown",
   "id": "blond-front",
   "metadata": {},
   "source": [
    "- 확률 : 경험 혹은 실험의 결과로 특정사건이나 결과가 발생할 가능성"
   ]
  },
  {
   "cell_type": "markdown",
   "id": "integral-malta",
   "metadata": {},
   "source": [
    "**확률의 조건** <br>\n",
    "- Random Process\n",
    "- Mutually Exclusive outcomes\n",
    "- Law of Large Numbers\n",
    "- Independence"
   ]
  },
  {
   "cell_type": "markdown",
   "id": "desperate-softball",
   "metadata": {},
   "source": [
    "**표본공간과 확률변수** <br>\n",
    "- 표본공간 : 발생할 수 있는 모든 가능한 결과의 집합 <br>\n",
    "- 확률변수 : 표본공간상의 모든 가능한 결과에 특정 수치를 부여하는 것"
   ]
  },
  {
   "cell_type": "markdown",
   "id": "professional-drill",
   "metadata": {},
   "source": [
    "<br>\n",
    "\n",
    "# 1. 확률변수 (Random Variable)\n",
    "---"
   ]
  },
  {
   "cell_type": "markdown",
   "id": "respiratory-kruger",
   "metadata": {},
   "source": [
    "**정의**<br>\n",
    "표본공간상의 모든 가능한 결과에 특정 수치를 부여하는 것으로, <u>확률실험의 결과를 실수에 대응시키는 함수(또는 방법)</u>를 확률변수라고 한다."
   ]
  },
  {
   "cell_type": "markdown",
   "id": "played-pregnancy",
   "metadata": {},
   "source": [
    "**확률변수는 이산 확률변수(discrete random variable)과 연속 확률변수(continuous random variable)로 구분된다.**\n",
    "- 이산 확률변수 : 확률변수가 취하는 값이 유한개일 때\n",
    "    - 예) 동전을 세 번 던지고, 그 결과를 기록하는 실험\n",
    "- 연속 확률변수 : 구간내의 임의의 모든 점을 취할 수 있을 때\n",
    "    - 예) 임이의 점 a에서 원점까지의 거리"
   ]
  },
  {
   "cell_type": "markdown",
   "id": "acceptable-wesley",
   "metadata": {},
   "source": [
    "<br>\n",
    "\n",
    "# 2. 확률함수 (Probability Distribution Function)\n",
    "---"
   ]
  },
  {
   "cell_type": "markdown",
   "id": "superb-mouse",
   "metadata": {},
   "source": [
    "## ▪️ 확률함수\n",
    "확률변수(x)에 대하여 정의된 실수를 0과 1 사이의 실수(확률)에 대응시키는 함수\n",
    "- 이산확률변수 (**PMF**, Probability Mass Function)\n",
    "- 연속확률변수 (**PDF**, Probability Density Function)"
   ]
  },
  {
   "cell_type": "markdown",
   "id": "acceptable-superintendent",
   "metadata": {},
   "source": [
    "## ▪️ 누적확률함수(CDF, Cumulative Probability Distribution Function)\n",
    "- 확률변수 X가 x이하의 값을 취할 확률 : F(x)=P(X<=x)"
   ]
  },
  {
   "cell_type": "markdown",
   "id": "colored-details",
   "metadata": {},
   "source": [
    "<br>\n",
    "\n",
    "# 3. 확률분포 (Probability Distribution)\n",
    "---"
   ]
  },
  {
   "cell_type": "markdown",
   "id": "biblical-cleveland",
   "metadata": {},
   "source": [
    "## ▪️ 확률분포\n",
    "- 확률변수가 특정 값을 가질 확률, 즉 상대적 가능성\n",
    "- 모든 가능한 확률변수 값과 그 값이 발생할 확률 값을 도수분포표나 그래프로 나타낸 것"
   ]
  },
  {
   "cell_type": "markdown",
   "id": "facial-roommate",
   "metadata": {},
   "source": [
    "예) 같은 동전 3개를 던져서 앞면(H)와 뒷면(T)이 나타나는 사항을 관찰하는 문제. 확률변수 X를 x=앞면의 개수로 정의할 때\n",
    "\n",
    "|PMF P(X=x)=P(x)|x의 값|CDF P(X=x)=P(x)|\n",
    "|:------:|:---:|:---:|\n",
    "|1/8|0|1/8|\n",
    "|3/8|1|4/8|\n",
    "|3/8|2|7/8|\n",
    "|1/8|3|1|"
   ]
  },
  {
   "cell_type": "markdown",
   "id": "forbidden-germany",
   "metadata": {},
   "source": [
    "## ▪️ 확률분포종류\n",
    "**1) 연속 확률분포**\n",
    "- 정규분포\n",
    "- 표준정규분포\n",
    "- t분포\n",
    "- 카이제곱분포\n",
    "- F분포\n",
    "- 와이블 분포\n",
    "\n",
    "**2) 이산 확률분포**\n",
    "- 베르누이 분포\n",
    "- 이항 분포\n",
    "- 포아송 분포\n",
    "- 초기하 분포"
   ]
  },
  {
   "cell_type": "markdown",
   "id": "czech-terrace",
   "metadata": {},
   "source": [
    "<br>\n",
    "\n",
    "# 4. 정규분포 (Normal Distribution)\n",
    "---"
   ]
  },
  {
   "attachments": {
    "image.png": {
     "image/png": "[encoded data removed]"
    }
   },
   "cell_type": "markdown",
   "id": "athletic-engine",
   "metadata": {},
   "source": [
    "![image.png](attachment:image.png)"
   ]
  },
  {
   "cell_type": "markdown",
   "id": "eight-appliance",
   "metadata": {},
   "source": [
    "## ▪️ 정의\n",
    "- 평균을 중심으로 좌우 대칭인 종모양 분포 (gauss distribution)\n",
    "- 정규분포는 어떤 실수값이라도 모두 취할 수 있는 연속확률변수 X(-inf<=X<inf)에 관한 분포로, x의 평균(μ)와 표준편차(σ) 두 모수에 의해 분포의 특징이 결정됨"
   ]
  },
  {
   "cell_type": "markdown",
   "id": "private-marathon",
   "metadata": {},
   "source": [
    "## ▪️ 특징\n",
    "- 평균=μ(분포위치), 분산=σ^(분포모양)\n",
    "- 종모양이며 μ 중심으로 대칭\n",
    "- 기호 : X~N(μ, σ^)"
   ]
  },
  {
   "cell_type": "markdown",
   "id": "acquired-tension",
   "metadata": {},
   "source": [
    "## ▪️ 용도\n",
    "- 중심극한정리에 의하여 독립적인 확률변수들의 평균은 정규분포에 가까워지는 성질이 있음\n",
    "- 따라서, 정규분포는 수집된 자료의 분포를 근사하는 데에 사용"
   ]
  },
  {
   "cell_type": "markdown",
   "id": "fancy-husband",
   "metadata": {},
   "source": [
    "## ▪️ 분포형태 변화\n",
    "- 평균과 표준편차의 변화에 따라 정규분포는 다양한 모습으로 나타남\n",
    "    - case1) 평균이 다르고, 표준편차에 차이가 없을 때\n",
    "    - case2) 평균이 같고, 표준편차에 차이가 있을 때"
   ]
  },
  {
   "cell_type": "markdown",
   "id": "configured-forge",
   "metadata": {},
   "source": [
    "<br>\n",
    "\n",
    "# 4. 연습 및 실습\n",
    "---"
   ]
  },
  {
   "cell_type": "markdown",
   "id": "unknown-proof",
   "metadata": {},
   "source": [
    "## python 패키지 불러오기"
   ]
  },
  {
   "cell_type": "code",
   "execution_count": 2,
   "id": "trying-carnival",
   "metadata": {},
   "outputs": [],
   "source": [
    "# 데이터 구성 패키지\n",
    "import pandas as pd\n",
    "\n",
    "# 행렬 연산 패키지\n",
    "import numpy as np\n",
    "\n",
    "# 데이터 시각화 패키지\n",
    "import matplotlib\n",
    "import matplotlib.pyplot as plt\n",
    "\n",
    "# 데이터 시각화(추세 등) 패키지\n",
    "import seaborn as sns\n",
    "\n",
    "# 통계 분석 패키지\n",
    "from scipy import stats\n",
    "import scipy.stats\n",
    "\n",
    "# 선형모델 formula\n",
    "import statsmodels.formula.api as smf\n",
    "import statsmodels.api as sm\n",
    "\n",
    "from statsmodels.stats.proportion import proportions_ztest\n",
    "from statsmodels.formula.api import ols\n",
    "from statsmodels.stats.anova import anova_lm\n",
    "\n",
    "\n",
    "%matplotlib inline"
   ]
  },
  {
   "cell_type": "code",
   "execution_count": 3,
   "id": "concerned-blame",
   "metadata": {},
   "outputs": [],
   "source": [
    "# matplotlib 패키지 한글 깨침 처리\n",
    "matplotlib.rc('font', family = 'AppleGothic')\n",
    "plt.rc('font', family = 'AppleGothic')"
   ]
  },
  {
   "cell_type": "markdown",
   "id": "accredited-valentine",
   "metadata": {},
   "source": [
    "## [연습1] 정규분포의 확률 계산"
   ]
  },
  {
   "cell_type": "code",
   "execution_count": 4,
   "id": "processed-watch",
   "metadata": {},
   "outputs": [
    {
     "name": "stdout",
     "output_type": "stream",
     "text": [
      "135분 이상 걸리는 A/S 작업 비율 : 15.9%\n"
     ]
    }
   ],
   "source": [
    "# 누적 확률값 계산\n",
    "mu = 115\n",
    "sigma = 20\n",
    "x = 135\n",
    "\n",
    "# prob : 135분까지 누적확률값 계산\n",
    "prob = stats.norm.cdf(x, mu, sigma)\n",
    "\n",
    "# 135분 이상의 누적확률값 계산\n",
    "print(\"{0}분 이상 걸리는 A/S 작업 비율 : {1:.1f}%\".format(x, (1-prob)*100))"
   ]
  },
  {
   "cell_type": "markdown",
   "id": "silent-metallic",
   "metadata": {},
   "source": [
    "## [실습1] 정규분포의 확률 계산 - p.43"
   ]
  },
  {
   "cell_type": "code",
   "execution_count": 5,
   "id": "serious-decision",
   "metadata": {},
   "outputs": [
    {
     "name": "stdout",
     "output_type": "stream",
     "text": [
      "180cm인 경우, 상위 15.9% 에 해당\n"
     ]
    }
   ],
   "source": [
    "# 누적 확률값 계산\n",
    "mu = 175\n",
    "sigma = 5\n",
    "x = 180\n",
    "\n",
    "# prob : 180cm까지의 누적확률값 계산\n",
    "prob = stats.norm.cdf(x, mu, sigma)\n",
    "\n",
    "# 180cm 이상의 누적확률값 계산\n",
    "print(\"{0}cm인 경우, 상위 {1:.1f}% 에 해당\".format(x, (1-prob)*100))"
   ]
  },
  {
   "cell_type": "markdown",
   "id": "cloudy-pleasure",
   "metadata": {},
   "source": [
    "## [연습2] 정규분포의 확률 계산"
   ]
  },
  {
   "cell_type": "code",
   "execution_count": 6,
   "id": "thorough-hanging",
   "metadata": {},
   "outputs": [
    {
     "name": "stdout",
     "output_type": "stream",
     "text": [
      "12km 이상 15km 이하를 달릴 확률은 34.1%에 해당함\n"
     ]
    }
   ],
   "source": [
    "# 누적확률 값 계산\n",
    "mu = 12\n",
    "sigma = 3\n",
    "x1 = 15\n",
    "\n",
    "# prob1 : 누적확률 15이하 값 계산\n",
    "prob1 = stats.norm.cdf(x1, mu, sigma)\n",
    "\n",
    "\n",
    "print(\"{0}km 이상 {1}km 이하를 달릴 확률은 {2:.1f}%에 해당함\".\n",
    "     format(mu, x1, (prob1-0.5)*100))"
   ]
  },
  {
   "cell_type": "markdown",
   "id": "alien-brain",
   "metadata": {},
   "source": [
    "## [실습2] 정규분포 확률 계산"
   ]
  },
  {
   "cell_type": "markdown",
   "id": "technical-genesis",
   "metadata": {},
   "source": [
    "**1) 1리터를 가지고 9km 이상 15km 이하를 달릴 확률은 얼마인가?**"
   ]
  },
  {
   "cell_type": "code",
   "execution_count": 7,
   "id": "important-pharmacy",
   "metadata": {},
   "outputs": [
    {
     "name": "stdout",
     "output_type": "stream",
     "text": [
      "12km 이상 15km 이하를 달릴 확률은 68.3%에 해당함\n"
     ]
    }
   ],
   "source": [
    "# 누적확률 값 계산\n",
    "mu = 12\n",
    "sigma = 3\n",
    "x1 = 15\n",
    "\n",
    "# prob: 누적확률 15이하 값 계산\n",
    "# 9km~12km & 12~15km 영역의 확률은 동일하므로 한 곳만 구하여 x2한다!\n",
    "prob1 = stats.norm.cdf(x1, mu, sigma)\n",
    "\n",
    "print(\"{0}km 이상 {1}km 이하를 달릴 확률은 {2:.1f}%에 해당함\".\n",
    "     format(mu, x1, (2*(prob1-0.5))*100))"
   ]
  },
  {
   "cell_type": "markdown",
   "id": "labeled-costa",
   "metadata": {},
   "source": [
    "**2) 1리터를 가지고 15km 이상 달릴 확률은 얼마인가?**"
   ]
  },
  {
   "cell_type": "code",
   "execution_count": 8,
   "id": "chief-senate",
   "metadata": {},
   "outputs": [
    {
     "name": "stdout",
     "output_type": "stream",
     "text": [
      "15km 이상 달릴 확률은 15.9%에 해당함\n"
     ]
    }
   ],
   "source": [
    "# 누적확률 값 계산\n",
    "mu = 12\n",
    "sigma = 3\n",
    "x1 = 15\n",
    "\n",
    "# prob2 : 누적확률 15이상 값 계산\n",
    "#\n",
    "prob2 = stats.norm.cdf(x1, mu, sigma)\n",
    "\n",
    "\n",
    "print(\"{0}km 이상 달릴 확률은 {1:.1f}%에 해당함\".\n",
    "     format(x1,(1-prob2)*100))"
   ]
  },
  {
   "cell_type": "code",
   "execution_count": null,
   "id": "honest-solid",
   "metadata": {},
   "outputs": [],
   "source": []
  }
 ],
 "metadata": {
  "kernelspec": {
   "display_name": "Python 3",
   "language": "python",
   "name": "python3"
  },
  "language_info": {
   "codemirror_mode": {
    "name": "ipython",
    "version": 3
   },
   "file_extension": ".py",
   "mimetype": "text/x-python",
   "name": "python",
   "nbconvert_exporter": "python",
   "pygments_lexer": "ipython3",
   "version": "3.9.1"
  },
  "toc": {
   "base_numbering": 1,
   "nav_menu": {},
   "number_sections": false,
   "sideBar": true,
   "skip_h1_title": false,
   "title_cell": "Table of Contents",
   "title_sidebar": "Contents",
   "toc_cell": false,
   "toc_position": {
    "height": "calc(100% - 180px)",
    "left": "10px",
    "top": "150px",
    "width": "202px"
   },
   "toc_section_display": true,
   "toc_window_display": true
  },
  "varInspector": {
   "cols": {
    "lenName": 16,
    "lenType": 16,
    "lenVar": 40
   },
   "kernels_config": {
    "python": {
     "delete_cmd_postfix": "",
     "delete_cmd_prefix": "del ",
     "library": "var_list.py",
     "varRefreshCmd": "print(var_dic_list())"
    },
    "r": {
     "delete_cmd_postfix": ") ",
     "delete_cmd_prefix": "rm(",
     "library": "var_list.r",
     "varRefreshCmd": "cat(var_dic_list()) "
    }
   },
   "types_to_exclude": [
    "module",
    "function",
    "builtin_function_or_method",
    "instance",
    "_Feature"
   ],
   "window_display": false
  }
 },
 "nbformat": 4,
 "nbformat_minor": 5
}
