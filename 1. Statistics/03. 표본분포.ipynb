{
 "cells": [
  {
   "cell_type": "markdown",
   "id": "professional-drill",
   "metadata": {},
   "source": [
    "<br>\n",
    "\n",
    "# 1. 표본추출 (Sampling)\n",
    "---"
   ]
  },
  {
   "cell_type": "markdown",
   "id": "respiratory-kruger",
   "metadata": {},
   "source": [
    "**정의**<br>\n",
    "<u>모집단을 대표하는 표본을 추출</u>하는 과정이나 행위"
   ]
  },
  {
   "cell_type": "markdown",
   "id": "played-pregnancy",
   "metadata": {},
   "source": [
    "**Sampling 유형**\n",
    "- 무작위(랜덤)샘플링 : 각 단위는 선택에 대해 동일한 기회를 가짐\n",
    "- 층별화된 무작위(랜덤)샘플링 : 단위에서 적정한 수를 무작위로 샘플링 함\n",
    "- 계통적 샘플링 : 매 n번째 찾음\n",
    "- 서브그룹 샘플링 : 매 t시간별 n단위 샘플링(예: 매 2시간 간격으로 5개 측정)"
   ]
  },
  {
   "cell_type": "markdown",
   "id": "acceptable-wesley",
   "metadata": {},
   "source": [
    "<br>\n",
    "\n",
    "# 2. 통계량\n",
    "---"
   ]
  },
  {
   "cell_type": "markdown",
   "id": "superb-mouse",
   "metadata": {},
   "source": [
    "## ▪️ 통계량(표본평균, 표본 표준편차)\n",
    "- 모집단\n",
    "    - 모수 : 모평균, 모표준편차\n",
    "- 크기 n=4에 대한 무작위 표본\n",
    "    - <u>통계량 : 표본평균, 표본표준편차</u>"
   ]
  },
  {
   "cell_type": "markdown",
   "id": "acceptable-superintendent",
   "metadata": {},
   "source": [
    "## ▪️ 표본 통계량\n",
    "### 1) 표본평균 x̄\n",
    "- 정규분포\n",
    "- t-분포\n",
    "\n",
    "### 2) 표본분산 s^\n",
    "- 카이제곱 분포\n",
    "- F-분포\n",
    "\n",
    "### 3) 표본비율 p̂\n",
    "- 이항 분포"
   ]
  },
  {
   "cell_type": "markdown",
   "id": "colored-details",
   "metadata": {},
   "source": [
    "<br>\n",
    "\n",
    "# 3. 표본의 평균(x̄)의 분포 : 정규분포\n",
    "---"
   ]
  },
  {
   "cell_type": "markdown",
   "id": "biblical-cleveland",
   "metadata": {},
   "source": [
    "## ▪️ 중심극한정리(Central Limit Theorem)\n",
    "- 중심이 μ이고 분산이 σ^인 임의의 확률분포를 따르는 모집단으로 부터 크기 n인 확률표본 X1, X2, ..., Xn을 취했을 때 이 **확률표본의 표본평균(x̄)의 분포는 표본의 크기 n이 충분히 클 때 정규분포를 따름**"
   ]
  },
  {
   "cell_type": "markdown",
   "id": "external-tanzania",
   "metadata": {},
   "source": [
    "- 모집단이 정규분포이면 x̄는 표본크기에 상관없이 언제나 정규 분포\n",
    "- 모집단이 적어도 대칭형이면, 표본 크기는 5~20일 때 x̄는 정규분포에 가까워짐\n",
    "- 모집단이 정규분포에서 얼마나 벗어났느냐와 상관 없이 x̄를 정규 분포에 가깝게 하는 표본의 크기는 30"
   ]
  },
  {
   "cell_type": "code",
   "execution_count": null,
   "id": "legal-match",
   "metadata": {},
   "outputs": [],
   "source": []
  }
 ],
 "metadata": {
  "kernelspec": {
   "display_name": "Python 3",
   "language": "python",
   "name": "python3"
  },
  "language_info": {
   "codemirror_mode": {
    "name": "ipython",
    "version": 3
   },
   "file_extension": ".py",
   "mimetype": "text/x-python",
   "name": "python",
   "nbconvert_exporter": "python",
   "pygments_lexer": "ipython3",
   "version": "3.9.1"
  },
  "toc": {
   "base_numbering": 1,
   "nav_menu": {},
   "number_sections": false,
   "sideBar": true,
   "skip_h1_title": false,
   "title_cell": "Table of Contents",
   "title_sidebar": "Contents",
   "toc_cell": false,
   "toc_position": {
    "height": "calc(100% - 180px)",
    "left": "10px",
    "top": "150px",
    "width": "202px"
   },
   "toc_section_display": true,
   "toc_window_display": true
  },
  "varInspector": {
   "cols": {
    "lenName": 16,
    "lenType": 16,
    "lenVar": 40
   },
   "kernels_config": {
    "python": {
     "delete_cmd_postfix": "",
     "delete_cmd_prefix": "del ",
     "library": "var_list.py",
     "varRefreshCmd": "print(var_dic_list())"
    },
    "r": {
     "delete_cmd_postfix": ") ",
     "delete_cmd_prefix": "rm(",
     "library": "var_list.r",
     "varRefreshCmd": "cat(var_dic_list()) "
    }
   },
   "types_to_exclude": [
    "module",
    "function",
    "builtin_function_or_method",
    "instance",
    "_Feature"
   ],
   "window_display": false
  }
 },
 "nbformat": 4,
 "nbformat_minor": 5
}
