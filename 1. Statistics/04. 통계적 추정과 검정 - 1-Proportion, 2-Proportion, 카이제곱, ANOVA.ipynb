{
 "cells": [
  {
   "cell_type": "markdown",
   "id": "unknown-proof",
   "metadata": {},
   "source": [
    "## python 패키지 불러오기\n",
    "---"
   ]
  },
  {
   "cell_type": "code",
   "execution_count": 1,
   "id": "trying-carnival",
   "metadata": {},
   "outputs": [],
   "source": [
    "# 데이터 구성 패키지\n",
    "import pandas as pd\n",
    "\n",
    "# 행렬 연산 패키지\n",
    "import numpy as np\n",
    "\n",
    "# 데이터 시각화 패키지\n",
    "import matplotlib\n",
    "import matplotlib.pyplot as plt\n",
    "\n",
    "# 데이터 시각화(추세 등) 패키지\n",
    "import seaborn as sns\n",
    "\n",
    "# 통계 분석 패키지\n",
    "from scipy import stats\n",
    "import scipy.stats\n",
    "\n",
    "# 선형모델 formula\n",
    "import statsmodels.formula.api as smf\n",
    "import statsmodels.api as sm\n",
    "\n",
    "from statsmodels.stats.proportion import proportions_ztest\n",
    "from statsmodels.formula.api import ols\n",
    "from statsmodels.stats.anova import anova_lm\n",
    "\n",
    "\n",
    "%matplotlib inline"
   ]
  },
  {
   "cell_type": "code",
   "execution_count": 2,
   "id": "concerned-blame",
   "metadata": {},
   "outputs": [],
   "source": [
    "# matplotlib 패키지 한글 깨침 처리\n",
    "matplotlib.rc('font', family = 'AppleGothic')\n",
    "plt.rc('font', family = 'AppleGothic')"
   ]
  },
  {
   "cell_type": "markdown",
   "id": "renewable-convergence",
   "metadata": {},
   "source": [
    "# 1. 1-Proportion Test\n",
    "---"
   ]
  },
  {
   "cell_type": "markdown",
   "id": "material-whole",
   "metadata": {},
   "source": [
    "## ▪️ 정의\n",
    "- 한 집단의 비율이 특정 비율과 같은지를 검정하는 도구\n",
    "    - 예) 공정의 불량률이 10%인가?"
   ]
  },
  {
   "cell_type": "markdown",
   "id": "professional-drill",
   "metadata": {},
   "source": [
    "<br>\n",
    "\n",
    "# 2. 연습 및 실습 (1-Proportion Test)\n",
    "---"
   ]
  },
  {
   "cell_type": "markdown",
   "id": "daily-stuff",
   "metadata": {},
   "source": [
    "## [연습1]\n",
    "- 고급강 A 가공하는 고객사 10% 정도\n",
    "- 100여개의 업체 표본으로 했을 때, 15개의 업체가 만족 표함\n",
    "- 품질개선을 한 결과로 기존보다 전체 고객 중 사용비율 차이가 있는지? (유의수준 0.05)"
   ]
  },
  {
   "cell_type": "code",
   "execution_count": 3,
   "id": "educated-viewer",
   "metadata": {},
   "outputs": [
    {
     "name": "stdout",
     "output_type": "stream",
     "text": [
      "1 Proportion test\n",
      "z:  1.400\n",
      "p:  0.161\n"
     ]
    }
   ],
   "source": [
    "# 변수 선언\n",
    "count = 15\n",
    "n_obs = 100\n",
    "value = 0.1\n",
    "\n",
    "# proportion 실행\n",
    "stat, pval = proportions_ztest(count, n_obs, value)\n",
    "\n",
    "# proportion test 결과 출력\n",
    "print(\"1 Proportion test\")\n",
    "print(\"z: {0: 0.3f}\".format(stat))\n",
    "print(\"p: {0: 0.3f}\".format(pval))"
   ]
  },
  {
   "cell_type": "markdown",
   "id": "dimensional-blowing",
   "metadata": {},
   "source": [
    "- 결론 : 결과적으로 고급강 A 제품에 대해 품질개선 결과 기존 대비 사용비율이 차이가 있다고 할 수 없다."
   ]
  },
  {
   "cell_type": "markdown",
   "id": "certain-butter",
   "metadata": {},
   "source": [
    "## [실습1]\n",
    "- 동전 정상인지 검정 위해 100번 던짐 (유의수준 0.05)\n",
    "- 앞면 40번, 뒷면 60번 \n",
    "- 정상적인 동전 던질 때 앞면 나올 확률 50%"
   ]
  },
  {
   "cell_type": "code",
   "execution_count": 4,
   "id": "future-shirt",
   "metadata": {},
   "outputs": [
    {
     "name": "stdout",
     "output_type": "stream",
     "text": [
      "1 Proportion test\n",
      "z: -2.041\n",
      "p:  0.041\n"
     ]
    }
   ],
   "source": [
    "# 변수선언\n",
    "count = 40\n",
    "n_obs = 100\n",
    "value = 0.5\n",
    "\n",
    "# proportion 실행\n",
    "stat, pval = proportions_ztest(count, n_obs, value)\n",
    "\n",
    "# proportion test 결과 출력\n",
    "print(\"1 Proportion test\")\n",
    "print(\"z: {0: 0.3f}\".format(stat))\n",
    "print(\"p: {0: 0.3f}\".format(pval))"
   ]
  },
  {
   "cell_type": "markdown",
   "id": "miniature-bulgarian",
   "metadata": {},
   "source": [
    "- 결론 : 결과적으로 이 동전에 대해 정상 확인 결과 기존 대비 차이가 있다고 할 수 있다.(불량이다)"
   ]
  },
  {
   "cell_type": "markdown",
   "id": "owned-diploma",
   "metadata": {},
   "source": [
    "<br>\n",
    "\n",
    "# 3. 2-Proportion Test\n",
    "---"
   ]
  },
  {
   "cell_type": "markdown",
   "id": "material-whole",
   "metadata": {},
   "source": [
    "## ▪️ 정의\n",
    "- 두 집단의 비율이 특정 비율과 같은지를 검정하는 도구\n",
    "    - 예) 동일한 제품 생산하는 두 공장에서 불량률 측정 후, 두 공정의 불량률이 같은지 비교"
   ]
  },
  {
   "cell_type": "markdown",
   "id": "configured-forge",
   "metadata": {},
   "source": [
    "<br>\n",
    "\n",
    "# 4. 연습 및 실습 (2-Proportion Test)\n",
    "---"
   ]
  },
  {
   "cell_type": "markdown",
   "id": "square-packing",
   "metadata": {},
   "source": [
    "## [연습1]\n",
    "- 동일한 제품 생상하는 두 공장에서 불량률 측정\n",
    "- 두 공정의 불량률이 같다고 할 수 있는지?"
   ]
  },
  {
   "cell_type": "code",
   "execution_count": 5,
   "id": "virtual-tattoo",
   "metadata": {},
   "outputs": [
    {
     "name": "stdout",
     "output_type": "stream",
     "text": [
      "2 Proportion test\n",
      "z:  1.553\n",
      "p:  0.120\n"
     ]
    }
   ],
   "source": [
    "# 변수 선언\n",
    "count = np.array([4,1])\n",
    "nobs = np.array([1000, 1200])\n",
    "\n",
    "# proportion test 실행\n",
    "stat,pval = proportions_ztest(count, nobs)\n",
    "\n",
    "# proportion test 결과 출력\n",
    "print(\"2 Proportion test\")\n",
    "print(\"z: {0: 0.3f}\".format(stat))\n",
    "print(\"p: {0: 0.3f}\".format(pval))"
   ]
  },
  {
   "cell_type": "markdown",
   "id": "soviet-italic",
   "metadata": {},
   "source": [
    "- p-value>0.05 이므로 두 공장의 불량률은 차이가 있다고 할 수 없다."
   ]
  },
  {
   "cell_type": "markdown",
   "id": "sublime-toolbox",
   "metadata": {},
   "source": [
    "## [실습1]\n",
    "- 동일한 제품 생상하는 두 공장에서 불량률 측정\n",
    "- 두 공정의 불량률이 같다고 할 수 있는지?"
   ]
  },
  {
   "cell_type": "code",
   "execution_count": 6,
   "id": "liberal-conditions",
   "metadata": {},
   "outputs": [
    {
     "name": "stdout",
     "output_type": "stream",
     "text": [
      "2 Proportion test\n",
      "z:  2.073\n",
      "p:  0.038\n"
     ]
    }
   ],
   "source": [
    "# 변수 선언\n",
    "count = np.array([14,5])\n",
    "nobs = np.array([1200, 1200])\n",
    "\n",
    "# proportion test 실행\n",
    "stat,pval = proportions_ztest(count, nobs)\n",
    "\n",
    "# proportion test 결과 출력\n",
    "print(\"2 Proportion test\")\n",
    "print(\"z: {0: 0.3f}\".format(stat))\n",
    "print(\"p: {0: 0.3f}\".format(pval))"
   ]
  },
  {
   "cell_type": "markdown",
   "id": "wrapped-exclusive",
   "metadata": {},
   "source": [
    "- p-value<0.05 이므로 두 공장의 불량률은 차이가 있다고 할 수 있다."
   ]
  },
  {
   "cell_type": "markdown",
   "id": "acceptable-wesley",
   "metadata": {},
   "source": [
    "<br>\n",
    "\n",
    "# 5. 카이제곱 검정\n",
    "---"
   ]
  },
  {
   "cell_type": "markdown",
   "id": "material-whole",
   "metadata": {},
   "source": [
    "## ▪️ 정의\n",
    "- **관찰된 빈도가 기대되는 빈도와 의미 있게 다른지의 여부를 검증하는 방법**\n",
    "- 자료가 빈도로 주어졌을 때, 특히 범주형 자료의 분석에 이용"
   ]
  },
  {
   "cell_type": "markdown",
   "id": "minute-heading",
   "metadata": {},
   "source": [
    "## ▪️ 절차\n",
    "### 1) 동일성 검정\n",
    "- 특성 별 두 가지 이상으로 범류된 범주간에 <u>상호 동일한 비율로 나타나는가</u>를 검정하고자 할 때\n",
    "    - 조별 작업분에 대해 각 강종별 조별로 불량율 차이가 있는지?\n",
    "\n",
    "### 2) 독립성 검정\n",
    "- 특성 별 두 가지 이상으로 분류된 범주간에 <u>상호 관련성이 있는지를 검정</u>하고자 할 때 사용\n",
    "    - 자동차 브랜드와 거주지 사이의 관계\n",
    "\n",
    "### 3) 적합도 검정\n",
    "- 어떤 특성치 또는 사건이 <u>기대치에 따라 발생했는지 여부를 검정</u>하고자 할 때\n",
    "    - 완두콩 수확 결과가 멘델의 유전법칙(9:3:3:1)과 일치하는지?"
   ]
  },
  {
   "cell_type": "markdown",
   "id": "material-whole",
   "metadata": {},
   "source": [
    "## ▪️ 카이제곱 검정통계량의 의미\n",
    "- 검정통계량이 **크다** : 실측치 대비 기대치의 차이가 크다\n",
    "    - 귀무가설 기각\n",
    "- 검정통계량이 **작다** : 실측치와 기대치의 차이가 작다\n",
    "    - 귀무가설 채택"
   ]
  },
  {
   "cell_type": "markdown",
   "id": "grave-norfolk",
   "metadata": {},
   "source": [
    "## ▪️ 임계치 X^(α, df)\n",
    "### 1) α\n",
    "- 유의수준\n",
    "\n",
    "### 2) df\n",
    "- 카이제곱 분포에서의 자유도\n",
    "- (row-1)(col-1)"
   ]
  },
  {
   "cell_type": "markdown",
   "id": "configured-forge",
   "metadata": {},
   "source": [
    "<br>\n",
    "\n",
    "# 6. 연습 및 실습 (카이제곱 검정)\n",
    "---"
   ]
  },
  {
   "cell_type": "markdown",
   "id": "minus-arena",
   "metadata": {},
   "source": [
    "## [연습1]\n",
    "- 근무조별로 철강제품 생산. 생산 제품의 규격이 3가지 종류\n",
    "- 근무조별로 제품을 생산하는 부하의 차이가 있는지? (유의수준 0.05)"
   ]
  },
  {
   "cell_type": "code",
   "execution_count": 7,
   "id": "harmful-wesley",
   "metadata": {},
   "outputs": [],
   "source": [
    "from scipy import stats"
   ]
  },
  {
   "cell_type": "code",
   "execution_count": 8,
   "id": "popular-negative",
   "metadata": {},
   "outputs": [
    {
     "data": {
      "text/html": [
       "<div>\n",
       "<style scoped>\n",
       "    .dataframe tbody tr th:only-of-type {\n",
       "        vertical-align: middle;\n",
       "    }\n",
       "\n",
       "    .dataframe tbody tr th {\n",
       "        vertical-align: top;\n",
       "    }\n",
       "\n",
       "    .dataframe thead th {\n",
       "        text-align: right;\n",
       "    }\n",
       "</style>\n",
       "<table border=\"1\" class=\"dataframe\">\n",
       "  <thead>\n",
       "    <tr style=\"text-align: right;\">\n",
       "      <th></th>\n",
       "      <th>work_1</th>\n",
       "      <th>work_2</th>\n",
       "      <th>work_3</th>\n",
       "      <th>work_4</th>\n",
       "    </tr>\n",
       "  </thead>\n",
       "  <tbody>\n",
       "    <tr>\n",
       "      <th>0</th>\n",
       "      <td>270</td>\n",
       "      <td>260</td>\n",
       "      <td>236</td>\n",
       "      <td>234</td>\n",
       "    </tr>\n",
       "    <tr>\n",
       "      <th>1</th>\n",
       "      <td>228</td>\n",
       "      <td>285</td>\n",
       "      <td>225</td>\n",
       "      <td>262</td>\n",
       "    </tr>\n",
       "    <tr>\n",
       "      <th>2</th>\n",
       "      <td>277</td>\n",
       "      <td>284</td>\n",
       "      <td>231</td>\n",
       "      <td>208</td>\n",
       "    </tr>\n",
       "  </tbody>\n",
       "</table>\n",
       "</div>"
      ],
      "text/plain": [
       "   work_1  work_2  work_3  work_4\n",
       "0     270     260     236     234\n",
       "1     228     285     225     262\n",
       "2     277     284     231     208"
      ]
     },
     "execution_count": 8,
     "metadata": {},
     "output_type": "execute_result"
    }
   ],
   "source": [
    "# 데이터 불러오기\n",
    "df = pd.read_csv(\"../data/카이제곱_근무조.csv\")\n",
    "df.head()"
   ]
  },
  {
   "cell_type": "code",
   "execution_count": 11,
   "id": "funded-blackberry",
   "metadata": {},
   "outputs": [
    {
     "name": "stdout",
     "output_type": "stream",
     "text": [
      "chi-square test\n",
      "chisq:13.366\n",
      "p:0.038\n",
      "degree of freedom:6\n",
      "expected value: \n",
      "[[258.333 258.333 258.333]\n",
      " [276.333 276.333 276.333]\n",
      " [230.667 230.667 230.667]\n",
      " [234.667 234.667 234.667]]\n"
     ]
    }
   ],
   "source": [
    "# chi-square test 실행\n",
    "chi, pval, dof, expected = stats.chi2_contingency(df.T)\n",
    "\n",
    "# chi-square test 결과 출력\n",
    "print(\"chi-square test\")\n",
    "print(\"chisq:{0:0.3f}\".format(chi))\n",
    "print(\"p:{0:0.3f}\".format(pval))\n",
    "print(\"degree of freedom:{}\".format(dof))\n",
    "print(\"expected value: \\n{}\".format(expected.round(3)))"
   ]
  },
  {
   "cell_type": "markdown",
   "id": "broken-happening",
   "metadata": {},
   "source": [
    "- 결론 : 유의수준 5%에서 근무조별로 제품을 생산하는 부하 차이가 있다고 할 수 있다."
   ]
  },
  {
   "cell_type": "code",
   "execution_count": 12,
   "id": "bigger-conference",
   "metadata": {},
   "outputs": [],
   "source": [
    "# 자 그러면 생각해보자고..\n",
    "# 귀무가설 : 차이가 없다\n",
    "# 대립가설 : 차이가 있다\n",
    "#p-value가 0.038로 유의수준 0.05보다 작다이가 그래서 귀무가설 기각한디\n",
    "#그래서 부하 차이가 있대"
   ]
  },
  {
   "cell_type": "markdown",
   "id": "handed-parliament",
   "metadata": {},
   "source": [
    "## [실습1]\n",
    "- 노트북 6가지 제품에 대하여 7가지 제품의 이미지를 중복선택할 수 있도록\n",
    "- 32명의 소비자 대상으로 설문\n",
    "- 각 제품에 대해 이미지 차이가 있는지? (유의수준 0.05)"
   ]
  },
  {
   "cell_type": "code",
   "execution_count": 13,
   "id": "brazilian-extraction",
   "metadata": {},
   "outputs": [
    {
     "data": {
      "text/html": [
       "<div>\n",
       "<style scoped>\n",
       "    .dataframe tbody tr th:only-of-type {\n",
       "        vertical-align: middle;\n",
       "    }\n",
       "\n",
       "    .dataframe tbody tr th {\n",
       "        vertical-align: top;\n",
       "    }\n",
       "\n",
       "    .dataframe thead th {\n",
       "        text-align: right;\n",
       "    }\n",
       "</style>\n",
       "<table border=\"1\" class=\"dataframe\">\n",
       "  <thead>\n",
       "    <tr style=\"text-align: right;\">\n",
       "      <th></th>\n",
       "      <th>A</th>\n",
       "      <th>B</th>\n",
       "      <th>C</th>\n",
       "      <th>D</th>\n",
       "      <th>E</th>\n",
       "      <th>F</th>\n",
       "    </tr>\n",
       "  </thead>\n",
       "  <tbody>\n",
       "    <tr>\n",
       "      <th>0</th>\n",
       "      <td>18</td>\n",
       "      <td>8</td>\n",
       "      <td>4</td>\n",
       "      <td>4</td>\n",
       "      <td>3</td>\n",
       "      <td>3</td>\n",
       "    </tr>\n",
       "    <tr>\n",
       "      <th>1</th>\n",
       "      <td>2</td>\n",
       "      <td>2</td>\n",
       "      <td>1</td>\n",
       "      <td>1</td>\n",
       "      <td>1</td>\n",
       "      <td>25</td>\n",
       "    </tr>\n",
       "    <tr>\n",
       "      <th>2</th>\n",
       "      <td>14</td>\n",
       "      <td>14</td>\n",
       "      <td>3</td>\n",
       "      <td>2</td>\n",
       "      <td>3</td>\n",
       "      <td>8</td>\n",
       "    </tr>\n",
       "    <tr>\n",
       "      <th>3</th>\n",
       "      <td>5</td>\n",
       "      <td>5</td>\n",
       "      <td>4</td>\n",
       "      <td>3</td>\n",
       "      <td>1</td>\n",
       "      <td>10</td>\n",
       "    </tr>\n",
       "    <tr>\n",
       "      <th>4</th>\n",
       "      <td>5</td>\n",
       "      <td>5</td>\n",
       "      <td>9</td>\n",
       "      <td>2</td>\n",
       "      <td>1</td>\n",
       "      <td>2</td>\n",
       "    </tr>\n",
       "  </tbody>\n",
       "</table>\n",
       "</div>"
      ],
      "text/plain": [
       "    A   B  C  D  E   F\n",
       "0  18   8  4  4  3   3\n",
       "1   2   2  1  1  1  25\n",
       "2  14  14  3  2  3   8\n",
       "3   5   5  4  3  1  10\n",
       "4   5   5  9  2  1   2"
      ]
     },
     "execution_count": 13,
     "metadata": {},
     "output_type": "execute_result"
    }
   ],
   "source": [
    "# 데이터 불러오기\n",
    "df = pd.read_csv(\"../data/카이제곱_노트북.csv\")\n",
    "df.head()"
   ]
  },
  {
   "cell_type": "code",
   "execution_count": 16,
   "id": "rocky-department",
   "metadata": {},
   "outputs": [
    {
     "name": "stdout",
     "output_type": "stream",
     "text": [
      "chi-square test\n",
      "chisq:95.759\n",
      "p:0.000\n",
      "degree of freedom:30\n",
      "expected value: \n",
      "[[10.224  8.179 11.247  7.157  6.135  8.179  5.879]\n",
      " [ 8.43   6.744  9.274  5.901  5.058  6.744  4.848]\n",
      " [ 5.381  4.305  5.919  3.767  3.229  4.305  3.094]\n",
      " [ 3.946  3.157  4.341  2.762  2.368  3.157  2.269]\n",
      " [ 1.973  1.578  2.17   1.381  1.184  1.578  1.135]\n",
      " [10.045  8.036 11.049  7.031  6.027  8.036  5.776]]\n"
     ]
    }
   ],
   "source": [
    "# chi-square test 실행\n",
    "chi, pval, dof, expected = stats.chi2_contingency(df.T)\n",
    "\n",
    "# chi-square test 결과 출력\n",
    "print(\"chi-square test\")\n",
    "print(\"chisq:{0:0.3f}\".format(chi))\n",
    "print(\"p:{0:0.3f}\".format(pval))\n",
    "print(\"degree of freedom:{}\".format(dof))\n",
    "print(\"expected value: \\n{}\".format(expected.round(3)))"
   ]
  },
  {
   "cell_type": "markdown",
   "id": "affected-confusion",
   "metadata": {},
   "source": [
    "- 결론 : 유의수준 5%에서 노트북 제품별 이미지 차이가 있다고 할 수 있다."
   ]
  },
  {
   "cell_type": "markdown",
   "id": "acceptable-wesley",
   "metadata": {},
   "source": [
    "<br>\n",
    "\n",
    "# 7. ANOVA(ANalysis Of VAriance)\n",
    "---"
   ]
  },
  {
   "cell_type": "markdown",
   "id": "material-whole",
   "metadata": {},
   "source": [
    "## ▪️ 정의\n",
    "- <u>비교대상이 되는 집단들 간의 평균의 차이를 검정</u>하기 위해 <u>총 변동을 요인의 수준차이로 설명되는 변동과 설명될 수 없는 변동으로 분해</u>하여 이 두 변동의 비가 통계적으로 유의한지를 검정하는 분석방법\n",
    "- 세(두) 개 이상의 표본 평균을 동시에 비교하는 분석 기법"
   ]
  },
  {
   "cell_type": "markdown",
   "id": "material-whole",
   "metadata": {},
   "source": [
    "## ▪️ 분산 검정\n",
    "- 두 개 이상의 집단간 모 분산이 동일한 지를 검정하는 도구\n",
    "\n",
    "### 1) 2 Variences (F-test)\n",
    "- 두 집단 간의 분산 비교\n",
    "    - 과제 전후 배송 시간의 산포가 같은가\n",
    "    \n",
    "### 2) Equal Varience\n",
    "- 세 집단 간의 분산 비교\n",
    "    - 강종별 2차정련 시간의 산포가 같은가"
   ]
  },
  {
   "cell_type": "markdown",
   "id": "material-whole",
   "metadata": {},
   "source": [
    "## ▪️ 용어 정의\n",
    "### 1) 분산분석(ANOVA)\n",
    "- **두 개 이상 다수의 집단을 비교하고자 할 때,** 집단 내의 분산, 총편균과 각 집단의 평균의 차이에 의해 생긴 집단 간 분산의 비교를 통해 만들어진 **F분포를 이용하여 가설검정 하는 방법**\n",
    "    \n",
    "### 2) 일원분산분석(one-way ANOVA)\n",
    "- **종속변수 1개, 독립변수 집단이 2개 이상인 경우**\n",
    "    - 가구 소득에 따른 식료품소비정도의 차이\n",
    "    - 국가간 20대 여성의 체중 비교\n",
    "    \n",
    "### 3) 이원분산분석(two-way ANOVA)\n",
    "- **독립변수의 수가 두 개 이상일 때 집단 간 차이가 유의한지를 검증하는 데 사용**\n",
    "    - 학력 및 성별에 따른 휴대폰 요금의 차이\n",
    "    - 국가간 성별과 학력에 따른 체중 비교"
   ]
  },
  {
   "cell_type": "markdown",
   "id": "configured-forge",
   "metadata": {},
   "source": [
    "<br>\n",
    "\n",
    "# 8. 연습 및 실습 (ANOVA)\n",
    "---"
   ]
  },
  {
   "cell_type": "markdown",
   "id": "understanding-lodging",
   "metadata": {},
   "source": [
    "## [연습1] : One way ANOVA\n",
    "- 마케팅실 그룹별 직원들의 토익 성적 차이\n",
    "- 그룹 간의 토익 점수의 차이 여부 검정(유의수준 0.05)"
   ]
  },
  {
   "cell_type": "code",
   "execution_count": 17,
   "id": "compressed-message",
   "metadata": {},
   "outputs": [
    {
     "data": {
      "text/plain": [
       "<AxesSubplot:>"
      ]
     },
     "execution_count": 17,
     "metadata": {},
     "output_type": "execute_result"
    },
    {
     "data": {
      "image/png": "[encoded data removed]",
      "text/plain": [
       "<Figure size 432x288 with 1 Axes>"
      ]
     },
     "metadata": {
      "needs_background": "light"
     },
     "output_type": "display_data"
    }
   ],
   "source": [
    "# 데이터 불러오기\n",
    "df = pd.read_csv(\"../data/ANOVA1.csv\")\n",
    "df.head()\n",
    "\n",
    "# group 별 boxplot\n",
    "df.boxplot(['A_G', 'B_G', 'C_G'])"
   ]
  },
  {
   "cell_type": "code",
   "execution_count": 18,
   "id": "incorporate-subcommittee",
   "metadata": {},
   "outputs": [
    {
     "name": "stdout",
     "output_type": "stream",
     "text": [
      "One-way\n",
      "F 통계량:  4.263\n",
      "p-value:  0.025\n"
     ]
    }
   ],
   "source": [
    "# ANOVA 실행\n",
    "f_result = stats.f_oneway(df['A_G'], df['B_G'], df['C_G'])\n",
    "\n",
    "# ANOVA의 f,p값 저장\n",
    "f,p = f_result.statistic.round(3),\\\n",
    "        f_result.pvalue.round(3)\n",
    "\n",
    "# ANOVA의 f,p값 출력\n",
    "print(\"One-way\")\n",
    "print(\"F 통계량: {0: 0.3f}\".format(f))\n",
    "print(\"p-value: {0: 0.3f}\".format(p))"
   ]
  },
  {
   "cell_type": "markdown",
   "id": "retired-limit",
   "metadata": {},
   "source": [
    "- 유의수준 5%에서 검정결과 p값이 0.05이므로 그룹 간의 평균차이가 있다고 할 수 있다."
   ]
  },
  {
   "cell_type": "markdown",
   "id": "through-afternoon",
   "metadata": {},
   "source": [
    "## [실습1]  : One way ANOVA\n",
    "- 강종별과 type에 따라 2차 정련 시간에 차이가 있는지 검정(유의수준 0.05)"
   ]
  },
  {
   "cell_type": "code",
   "execution_count": 22,
   "id": "adaptive-secondary",
   "metadata": {},
   "outputs": [],
   "source": [
    "from statsmodels.formula.api import ols\n",
    "from statsmodels.stats.anova import anova_lm"
   ]
  },
  {
   "cell_type": "code",
   "execution_count": 23,
   "id": "stable-broad",
   "metadata": {},
   "outputs": [
    {
     "data": {
      "text/html": [
       "<div>\n",
       "<style scoped>\n",
       "    .dataframe tbody tr th:only-of-type {\n",
       "        vertical-align: middle;\n",
       "    }\n",
       "\n",
       "    .dataframe tbody tr th {\n",
       "        vertical-align: top;\n",
       "    }\n",
       "\n",
       "    .dataframe thead th {\n",
       "        text-align: right;\n",
       "    }\n",
       "</style>\n",
       "<table border=\"1\" class=\"dataframe\">\n",
       "  <thead>\n",
       "    <tr style=\"text-align: right;\">\n",
       "      <th></th>\n",
       "      <th>time</th>\n",
       "      <th>charge</th>\n",
       "      <th>gangjong</th>\n",
       "      <th>type</th>\n",
       "    </tr>\n",
       "  </thead>\n",
       "  <tbody>\n",
       "    <tr>\n",
       "      <th>0</th>\n",
       "      <td>32.2</td>\n",
       "      <td>A</td>\n",
       "      <td>a</td>\n",
       "      <td>a</td>\n",
       "    </tr>\n",
       "    <tr>\n",
       "      <th>1</th>\n",
       "      <td>30.4</td>\n",
       "      <td>B</td>\n",
       "      <td>a</td>\n",
       "      <td>a</td>\n",
       "    </tr>\n",
       "    <tr>\n",
       "      <th>2</th>\n",
       "      <td>33.6</td>\n",
       "      <td>C</td>\n",
       "      <td>a</td>\n",
       "      <td>a</td>\n",
       "    </tr>\n",
       "    <tr>\n",
       "      <th>3</th>\n",
       "      <td>36.4</td>\n",
       "      <td>D</td>\n",
       "      <td>a</td>\n",
       "      <td>a</td>\n",
       "    </tr>\n",
       "    <tr>\n",
       "      <th>4</th>\n",
       "      <td>33.9</td>\n",
       "      <td>E</td>\n",
       "      <td>a</td>\n",
       "      <td>a</td>\n",
       "    </tr>\n",
       "  </tbody>\n",
       "</table>\n",
       "</div>"
      ],
      "text/plain": [
       "   time charge gangjong type\n",
       "0  32.2      A        a    a\n",
       "1  30.4      B        a    a\n",
       "2  33.6      C        a    a\n",
       "3  36.4      D        a    a\n",
       "4  33.9      E        a    a"
      ]
     },
     "execution_count": 23,
     "metadata": {},
     "output_type": "execute_result"
    }
   ],
   "source": [
    "# 데이터 불러오기\n",
    "df = pd.read_csv(\"../data/ANOVA.csv\")\n",
    "df.head()"
   ]
  },
  {
   "cell_type": "code",
   "execution_count": 24,
   "id": "exempt-conclusion",
   "metadata": {},
   "outputs": [
    {
     "data": {
      "text/plain": [
       "<AxesSubplot:title={'center':'time'}, xlabel='gangjong'>"
      ]
     },
     "execution_count": 24,
     "metadata": {},
     "output_type": "execute_result"
    },
    {
     "data": {
      "image/png": "[encoded data removed]",
      "text/plain": [
       "<Figure size 432x288 with 1 Axes>"
      ]
     },
     "metadata": {
      "needs_background": "light"
     },
     "output_type": "display_data"
    }
   ],
   "source": [
    "# group 별 boxplot\n",
    "df.boxplot('time', by='gangjong')"
   ]
  },
  {
   "cell_type": "code",
   "execution_count": 25,
   "id": "tutorial-toolbox",
   "metadata": {},
   "outputs": [
    {
     "name": "stdout",
     "output_type": "stream",
     "text": [
      "               df      sum_sq    mean_sq         F    PR(>F)\n",
      "C(gangjong)   3.0  104.603333  34.867778  4.171868  0.019013\n",
      "Residual     20.0  167.156667   8.357833       NaN       NaN\n"
     ]
    }
   ],
   "source": [
    "# ANOVA 실행\n",
    "# statsmodels 라이브러리 사용\n",
    "formula = 'time ~ C(gangjong)'\n",
    "lm = ols(formula, df).fit()\n",
    "\n",
    "print(anova_lm(lm))"
   ]
  },
  {
   "cell_type": "markdown",
   "id": "personalized-clearance",
   "metadata": {},
   "source": [
    "- 결론 : 유의수준 5%에서 p값이 0.019이므로 강종별 2차 정련 시간에 차이가 있다고 할 수 있다."
   ]
  },
  {
   "cell_type": "code",
   "execution_count": null,
   "id": "casual-wright",
   "metadata": {},
   "outputs": [],
   "source": []
  }
 ],
 "metadata": {
  "kernelspec": {
   "display_name": "Python 3",
   "language": "python",
   "name": "python3"
  },
  "language_info": {
   "codemirror_mode": {
    "name": "ipython",
    "version": 3
   },
   "file_extension": ".py",
   "mimetype": "text/x-python",
   "name": "python",
   "nbconvert_exporter": "python",
   "pygments_lexer": "ipython3",
   "version": "3.9.1"
  },
  "toc": {
   "base_numbering": 1,
   "nav_menu": {},
   "number_sections": false,
   "sideBar": true,
   "skip_h1_title": false,
   "title_cell": "Table of Contents",
   "title_sidebar": "Contents",
   "toc_cell": false,
   "toc_position": {
    "height": "calc(100% - 180px)",
    "left": "10px",
    "top": "150px",
    "width": "165px"
   },
   "toc_section_display": true,
   "toc_window_display": true
  },
  "varInspector": {
   "cols": {
    "lenName": 16,
    "lenType": 16,
    "lenVar": 40
   },
   "kernels_config": {
    "python": {
     "delete_cmd_postfix": "",
     "delete_cmd_prefix": "del ",
     "library": "var_list.py",
     "varRefreshCmd": "print(var_dic_list())"
    },
    "r": {
     "delete_cmd_postfix": ") ",
     "delete_cmd_prefix": "rm(",
     "library": "var_list.r",
     "varRefreshCmd": "cat(var_dic_list()) "
    }
   },
   "types_to_exclude": [
    "module",
    "function",
    "builtin_function_or_method",
    "instance",
    "_Feature"
   ],
   "window_display": false
  }
 },
 "nbformat": 4,
 "nbformat_minor": 5
}
