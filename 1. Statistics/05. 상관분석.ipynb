{
 "cells": [
  {
   "cell_type": "markdown",
   "id": "unknown-proof",
   "metadata": {},
   "source": [
    "## python 패키지 불러오기\n",
    "---"
   ]
  },
  {
   "cell_type": "code",
   "execution_count": 2,
   "id": "trying-carnival",
   "metadata": {},
   "outputs": [],
   "source": [
    "# 데이터 구성 패키지\n",
    "import pandas as pd\n",
    "\n",
    "# 행렬 연산 패키지\n",
    "import numpy as np\n",
    "\n",
    "# 데이터 시각화 패키지\n",
    "import matplotlib\n",
    "import matplotlib.pyplot as plt\n",
    "\n",
    "# 데이터 시각화(추세 등) 패키지\n",
    "import seaborn as sns\n",
    "\n",
    "# 통계 분석 패키지\n",
    "from scipy import stats\n",
    "import scipy.stats\n",
    "\n",
    "# 선형모델 formula\n",
    "import statsmodels.formula.api as smf\n",
    "import statsmodels.api as sm\n",
    "\n",
    "from statsmodels.stats.proportion import proportions_ztest\n",
    "from statsmodels.formula.api import ols\n",
    "from statsmodels.stats.anova import anova_lm\n",
    "\n",
    "\n",
    "%matplotlib inline"
   ]
  },
  {
   "cell_type": "code",
   "execution_count": 3,
   "id": "concerned-blame",
   "metadata": {},
   "outputs": [],
   "source": [
    "# matplotlib 패키지 한글 깨침 처리\n",
    "matplotlib.rc('font', family = 'AppleGothic')\n",
    "plt.rc('font', family = 'AppleGothic')"
   ]
  },
  {
   "cell_type": "markdown",
   "id": "renewable-convergence",
   "metadata": {},
   "source": [
    "# 1. 상관분석\n",
    "---"
   ]
  },
  {
   "cell_type": "markdown",
   "id": "material-whole",
   "metadata": {},
   "source": [
    "## ▪️ 상관분석\n",
    "- 두 수량형 변수간에 선형적 관계와 강도와 방향을 분석하는 통계방법\n",
    "- 한 변수가 증가할 때 다른 한 변수가 선형적인 증가 또는 감소하는 지를 나타낸 것"
   ]
  },
  {
   "cell_type": "markdown",
   "id": "nervous-constraint",
   "metadata": {},
   "source": [
    "## ▪️ 선형관계의 척도\n",
    "### 1) 공분산 (covarience)\n",
    "- **둘 이상의 변량이 연관성을 가지며 분포하는 모양을 전체적으로 나타낸 분산**\n",
    "    - 두 변수가 <u>동일한 방향?</u> 공분산은 크고 <u>양의 값</u>을 가짐\n",
    "    - 두 변수가 <u>반대 방향?</u> 공분산은 크고 <u>음의 값</u>을 가짐\n",
    "\n",
    "### 2) 상관계수 (coefficient of correlation)\n",
    "- **두 변수 간의 선형적인 관계 정도와 방향을 수치로 표시한 표준화된 지수**"
   ]
  },
  {
   "cell_type": "markdown",
   "id": "activated-blind",
   "metadata": {},
   "source": [
    "## ▪️ 상관계수의 특성\n",
    "- 상관계수의 범위 : -1 <= r <= +1\n",
    "- 한 변수 또는 두 변수의 값에 0이 아닌 일정한 수를 더하거나 곱해도 상관계수 변하지 않음\n",
    "- 변수 척도의 단위에 영향 받지 않음\n",
    "- <u>상관계수는 두 변수간의 연관된 정도를 나타낼 뿐 인과관계를 설명하지는 않음</u>"
   ]
  },
  {
   "cell_type": "markdown",
   "id": "million-smile",
   "metadata": {},
   "source": [
    "## ▪️ 산점도와 상관분석\n",
    "- **산점도 : 두 변수 X,Y의 관측치를 좌표평면상에 점으로 나타낸 그림**\n",
    "- 산점도 분석시\n",
    "    - 1) 점들의 산재된 모양으로부터 두 변수 사이 관계 여부 확인\n",
    "    - 2) 직선 관계? 곡선 관계? 확인\n",
    "    - 3) 이상 데이터 확인\n",
    "    - 4) 점들이 몇 개의 집단으로 층별되는지 확인"
   ]
  },
  {
   "cell_type": "markdown",
   "id": "configured-forge",
   "metadata": {},
   "source": [
    "<br>\n",
    "\n",
    "# 2. 연습 및 실습 (상관분석)\n",
    "---"
   ]
  },
  {
   "cell_type": "markdown",
   "id": "eastern-roads",
   "metadata": {},
   "source": [
    "## [연습1]\n",
    "- 부품수리시간과 부품 수간 관계 분석"
   ]
  },
  {
   "cell_type": "code",
   "execution_count": 4,
   "id": "narrative-tattoo",
   "metadata": {},
   "outputs": [
    {
     "data": {
      "text/html": [
       "<div>\n",
       "<style scoped>\n",
       "    .dataframe tbody tr th:only-of-type {\n",
       "        vertical-align: middle;\n",
       "    }\n",
       "\n",
       "    .dataframe tbody tr th {\n",
       "        vertical-align: top;\n",
       "    }\n",
       "\n",
       "    .dataframe thead th {\n",
       "        text-align: right;\n",
       "    }\n",
       "</style>\n",
       "<table border=\"1\" class=\"dataframe\">\n",
       "  <thead>\n",
       "    <tr style=\"text-align: right;\">\n",
       "      <th></th>\n",
       "      <th>UNITS</th>\n",
       "      <th>MINUTES</th>\n",
       "    </tr>\n",
       "  </thead>\n",
       "  <tbody>\n",
       "    <tr>\n",
       "      <th>0</th>\n",
       "      <td>1</td>\n",
       "      <td>23</td>\n",
       "    </tr>\n",
       "    <tr>\n",
       "      <th>1</th>\n",
       "      <td>2</td>\n",
       "      <td>29</td>\n",
       "    </tr>\n",
       "    <tr>\n",
       "      <th>2</th>\n",
       "      <td>3</td>\n",
       "      <td>49</td>\n",
       "    </tr>\n",
       "    <tr>\n",
       "      <th>3</th>\n",
       "      <td>4</td>\n",
       "      <td>64</td>\n",
       "    </tr>\n",
       "    <tr>\n",
       "      <th>4</th>\n",
       "      <td>4</td>\n",
       "      <td>74</td>\n",
       "    </tr>\n",
       "  </tbody>\n",
       "</table>\n",
       "</div>"
      ],
      "text/plain": [
       "   UNITS  MINUTES\n",
       "0      1       23\n",
       "1      2       29\n",
       "2      3       49\n",
       "3      4       64\n",
       "4      4       74"
      ]
     },
     "execution_count": 4,
     "metadata": {},
     "output_type": "execute_result"
    }
   ],
   "source": [
    "# 데이터 불러오기\n",
    "df = pd.read_csv(\"../data/작업시간.csv\", engine=\"python\")\n",
    "df.head()"
   ]
  },
  {
   "cell_type": "code",
   "execution_count": 5,
   "id": "organizational-suspect",
   "metadata": {},
   "outputs": [
    {
     "data": {
      "text/plain": [
       "<AxesSubplot:xlabel='UNITS', ylabel='MINUTES'>"
      ]
     },
     "execution_count": 5,
     "metadata": {},
     "output_type": "execute_result"
    },
    {
     "data": {
      "image/png": "[encoded data removed]",
      "text/plain": [
       "<Figure size 432x288 with 1 Axes>"
      ]
     },
     "metadata": {
      "needs_background": "light"
     },
     "output_type": "display_data"
    }
   ],
   "source": [
    "# 데이터 시각화\n",
    "df.plot.scatter(x=\"UNITS\", y=\"MINUTES\")"
   ]
  },
  {
   "cell_type": "code",
   "execution_count": 6,
   "id": "liable-stand",
   "metadata": {},
   "outputs": [
    {
     "name": "stdout",
     "output_type": "stream",
     "text": [
      "Correlation Analysis\n",
      "corr:0.989\n",
      "p-value:0.000\n"
     ]
    }
   ],
   "source": [
    "# correlation analysis 실행\n",
    "corr, pval = stats.pearsonr(df['UNITS'], df['MINUTES'])\n",
    "\n",
    "# coreelation, p-value 결과 출력\n",
    "print(\"Correlation Analysis\")\n",
    "print(\"corr:{0:0.3f}\".format(corr))\n",
    "print(\"p-value:{0:0.3f}\".format(pval))"
   ]
  },
  {
   "cell_type": "code",
   "execution_count": 7,
   "id": "selected-intake",
   "metadata": {},
   "outputs": [
    {
     "data": {
      "text/html": [
       "<div>\n",
       "<style scoped>\n",
       "    .dataframe tbody tr th:only-of-type {\n",
       "        vertical-align: middle;\n",
       "    }\n",
       "\n",
       "    .dataframe tbody tr th {\n",
       "        vertical-align: top;\n",
       "    }\n",
       "\n",
       "    .dataframe thead th {\n",
       "        text-align: right;\n",
       "    }\n",
       "</style>\n",
       "<table border=\"1\" class=\"dataframe\">\n",
       "  <thead>\n",
       "    <tr style=\"text-align: right;\">\n",
       "      <th></th>\n",
       "      <th>UNITS</th>\n",
       "      <th>MINUTES</th>\n",
       "    </tr>\n",
       "  </thead>\n",
       "  <tbody>\n",
       "    <tr>\n",
       "      <th>UNITS</th>\n",
       "      <td>1.000</td>\n",
       "      <td>0.989</td>\n",
       "    </tr>\n",
       "    <tr>\n",
       "      <th>MINUTES</th>\n",
       "      <td>0.989</td>\n",
       "      <td>1.000</td>\n",
       "    </tr>\n",
       "  </tbody>\n",
       "</table>\n",
       "</div>"
      ],
      "text/plain": [
       "         UNITS  MINUTES\n",
       "UNITS    1.000    0.989\n",
       "MINUTES  0.989    1.000"
      ]
     },
     "execution_count": 7,
     "metadata": {},
     "output_type": "execute_result"
    }
   ],
   "source": [
    "# 목표변수와 설명번수의 상관분석\n",
    "df.corr(method=\"pearson\").round(3)"
   ]
  },
  {
   "cell_type": "markdown",
   "id": "uniform-public",
   "metadata": {},
   "source": [
    "- corr값이 0.989로 부품수리시간과 부품수 간에 '매우 강한 상관성'이 있다고 할 수 있다."
   ]
  },
  {
   "cell_type": "markdown",
   "id": "heated-twenty",
   "metadata": {},
   "source": [
    "## [실습1]\n",
    "- 초코칩의 강도와 재료 반죽온도간에 관계 분석"
   ]
  },
  {
   "cell_type": "code",
   "execution_count": 8,
   "id": "continent-printer",
   "metadata": {},
   "outputs": [
    {
     "data": {
      "text/html": [
       "<div>\n",
       "<style scoped>\n",
       "    .dataframe tbody tr th:only-of-type {\n",
       "        vertical-align: middle;\n",
       "    }\n",
       "\n",
       "    .dataframe tbody tr th {\n",
       "        vertical-align: top;\n",
       "    }\n",
       "\n",
       "    .dataframe thead th {\n",
       "        text-align: right;\n",
       "    }\n",
       "</style>\n",
       "<table border=\"1\" class=\"dataframe\">\n",
       "  <thead>\n",
       "    <tr style=\"text-align: right;\">\n",
       "      <th></th>\n",
       "      <th>strength</th>\n",
       "      <th>temp</th>\n",
       "      <th>Quantity</th>\n",
       "      <th>b_time</th>\n",
       "      <th>Oven_TMP</th>\n",
       "    </tr>\n",
       "  </thead>\n",
       "  <tbody>\n",
       "    <tr>\n",
       "      <th>0</th>\n",
       "      <td>37.6</td>\n",
       "      <td>14</td>\n",
       "      <td>120.790646</td>\n",
       "      <td>0.798922</td>\n",
       "      <td>307.106574</td>\n",
       "    </tr>\n",
       "    <tr>\n",
       "      <th>1</th>\n",
       "      <td>38.6</td>\n",
       "      <td>15</td>\n",
       "      <td>99.643155</td>\n",
       "      <td>0.849020</td>\n",
       "      <td>318.178850</td>\n",
       "    </tr>\n",
       "    <tr>\n",
       "      <th>2</th>\n",
       "      <td>37.2</td>\n",
       "      <td>14</td>\n",
       "      <td>115.102395</td>\n",
       "      <td>0.816163</td>\n",
       "      <td>339.715122</td>\n",
       "    </tr>\n",
       "    <tr>\n",
       "      <th>3</th>\n",
       "      <td>36.4</td>\n",
       "      <td>16</td>\n",
       "      <td>114.640504</td>\n",
       "      <td>0.758266</td>\n",
       "      <td>341.174398</td>\n",
       "    </tr>\n",
       "    <tr>\n",
       "      <th>4</th>\n",
       "      <td>38.6</td>\n",
       "      <td>17</td>\n",
       "      <td>141.266536</td>\n",
       "      <td>0.815894</td>\n",
       "      <td>335.904402</td>\n",
       "    </tr>\n",
       "  </tbody>\n",
       "</table>\n",
       "</div>"
      ],
      "text/plain": [
       "   strength  temp    Quantity    b_time    Oven_TMP\n",
       "0      37.6    14  120.790646  0.798922  307.106574\n",
       "1      38.6    15   99.643155  0.849020  318.178850\n",
       "2      37.2    14  115.102395  0.816163  339.715122\n",
       "3      36.4    16  114.640504  0.758266  341.174398\n",
       "4      38.6    17  141.266536  0.815894  335.904402"
      ]
     },
     "execution_count": 8,
     "metadata": {},
     "output_type": "execute_result"
    }
   ],
   "source": [
    "# 데이터 불러오기\n",
    "df = pd.read_csv(\"../data/correlation.csv\", engine=\"python\")\n",
    "df.head()"
   ]
  },
  {
   "cell_type": "code",
   "execution_count": 9,
   "id": "prescribed-dubai",
   "metadata": {},
   "outputs": [
    {
     "data": {
      "text/plain": [
       "<AxesSubplot:xlabel='strength', ylabel='temp'>"
      ]
     },
     "execution_count": 9,
     "metadata": {},
     "output_type": "execute_result"
    },
    {
     "data": {
      "image/png": "[encoded data removed]",
      "text/plain": [
       "<Figure size 432x288 with 1 Axes>"
      ]
     },
     "metadata": {
      "needs_background": "light"
     },
     "output_type": "display_data"
    }
   ],
   "source": [
    "# 데이터 시각화\n",
    "df.plot.scatter(x=\"strength\", y=\"temp\")"
   ]
  },
  {
   "cell_type": "code",
   "execution_count": 10,
   "id": "appointed-interface",
   "metadata": {},
   "outputs": [
    {
     "name": "stdout",
     "output_type": "stream",
     "text": [
      "Correlation Analysis\n",
      "corr:-0.899\n",
      "p-value:0.000\n"
     ]
    }
   ],
   "source": [
    "# correlation analysis 실행\n",
    "corr, pval = stats.pearsonr(df['strength'], df['temp'])\n",
    "\n",
    "# correlation, p-value 결과 출력\n",
    "print(\"Correlation Analysis\")\n",
    "print(\"corr:{0:0.3f}\".format(corr))\n",
    "print(\"p-value:{0:0.3f}\".format(pval))"
   ]
  },
  {
   "cell_type": "code",
   "execution_count": 11,
   "id": "demanding-penalty",
   "metadata": {},
   "outputs": [
    {
     "data": {
      "text/html": [
       "<div>\n",
       "<style scoped>\n",
       "    .dataframe tbody tr th:only-of-type {\n",
       "        vertical-align: middle;\n",
       "    }\n",
       "\n",
       "    .dataframe tbody tr th {\n",
       "        vertical-align: top;\n",
       "    }\n",
       "\n",
       "    .dataframe thead th {\n",
       "        text-align: right;\n",
       "    }\n",
       "</style>\n",
       "<table border=\"1\" class=\"dataframe\">\n",
       "  <thead>\n",
       "    <tr style=\"text-align: right;\">\n",
       "      <th></th>\n",
       "      <th>strength</th>\n",
       "      <th>temp</th>\n",
       "      <th>Quantity</th>\n",
       "      <th>b_time</th>\n",
       "      <th>Oven_TMP</th>\n",
       "    </tr>\n",
       "  </thead>\n",
       "  <tbody>\n",
       "    <tr>\n",
       "      <th>strength</th>\n",
       "      <td>1.000</td>\n",
       "      <td>-0.899</td>\n",
       "      <td>0.703</td>\n",
       "      <td>0.966</td>\n",
       "      <td>0.037</td>\n",
       "    </tr>\n",
       "    <tr>\n",
       "      <th>temp</th>\n",
       "      <td>-0.899</td>\n",
       "      <td>1.000</td>\n",
       "      <td>-0.639</td>\n",
       "      <td>-0.873</td>\n",
       "      <td>-0.064</td>\n",
       "    </tr>\n",
       "    <tr>\n",
       "      <th>Quantity</th>\n",
       "      <td>0.703</td>\n",
       "      <td>-0.639</td>\n",
       "      <td>1.000</td>\n",
       "      <td>0.690</td>\n",
       "      <td>-0.151</td>\n",
       "    </tr>\n",
       "    <tr>\n",
       "      <th>b_time</th>\n",
       "      <td>0.966</td>\n",
       "      <td>-0.873</td>\n",
       "      <td>0.690</td>\n",
       "      <td>1.000</td>\n",
       "      <td>0.099</td>\n",
       "    </tr>\n",
       "    <tr>\n",
       "      <th>Oven_TMP</th>\n",
       "      <td>0.037</td>\n",
       "      <td>-0.064</td>\n",
       "      <td>-0.151</td>\n",
       "      <td>0.099</td>\n",
       "      <td>1.000</td>\n",
       "    </tr>\n",
       "  </tbody>\n",
       "</table>\n",
       "</div>"
      ],
      "text/plain": [
       "          strength   temp  Quantity  b_time  Oven_TMP\n",
       "strength     1.000 -0.899     0.703   0.966     0.037\n",
       "temp        -0.899  1.000    -0.639  -0.873    -0.064\n",
       "Quantity     0.703 -0.639     1.000   0.690    -0.151\n",
       "b_time       0.966 -0.873     0.690   1.000     0.099\n",
       "Oven_TMP     0.037 -0.064    -0.151   0.099     1.000"
      ]
     },
     "execution_count": 11,
     "metadata": {},
     "output_type": "execute_result"
    }
   ],
   "source": [
    "# 목표변수와 설명번수의 상관분석\n",
    "df.corr(method=\"pearson\").round(3)"
   ]
  },
  {
   "cell_type": "markdown",
   "id": "disturbed-married",
   "metadata": {},
   "source": [
    "- corr값이 -0.899로 초코칩의 강도와 재료 반죽 온도간에 '강한 음의 상관성'이 있다고 할 수 있다."
   ]
  },
  {
   "cell_type": "code",
   "execution_count": null,
   "id": "unlike-monthly",
   "metadata": {},
   "outputs": [],
   "source": []
  }
 ],
 "metadata": {
  "kernelspec": {
   "display_name": "Python 3",
   "language": "python",
   "name": "python3"
  },
  "language_info": {
   "codemirror_mode": {
    "name": "ipython",
    "version": 3
   },
   "file_extension": ".py",
   "mimetype": "text/x-python",
   "name": "python",
   "nbconvert_exporter": "python",
   "pygments_lexer": "ipython3",
   "version": "3.9.1"
  },
  "toc": {
   "base_numbering": 1,
   "nav_menu": {},
   "number_sections": false,
   "sideBar": true,
   "skip_h1_title": false,
   "title_cell": "Table of Contents",
   "title_sidebar": "Contents",
   "toc_cell": false,
   "toc_position": {
    "height": "calc(100% - 180px)",
    "left": "10px",
    "top": "150px",
    "width": "165px"
   },
   "toc_section_display": true,
   "toc_window_display": false
  },
  "varInspector": {
   "cols": {
    "lenName": 16,
    "lenType": 16,
    "lenVar": 40
   },
   "kernels_config": {
    "python": {
     "delete_cmd_postfix": "",
     "delete_cmd_prefix": "del ",
     "library": "var_list.py",
     "varRefreshCmd": "print(var_dic_list())"
    },
    "r": {
     "delete_cmd_postfix": ") ",
     "delete_cmd_prefix": "rm(",
     "library": "var_list.r",
     "varRefreshCmd": "cat(var_dic_list()) "
    }
   },
   "types_to_exclude": [
    "module",
    "function",
    "builtin_function_or_method",
    "instance",
    "_Feature"
   ],
   "window_display": false
  }
 },
 "nbformat": 4,
 "nbformat_minor": 5
}
