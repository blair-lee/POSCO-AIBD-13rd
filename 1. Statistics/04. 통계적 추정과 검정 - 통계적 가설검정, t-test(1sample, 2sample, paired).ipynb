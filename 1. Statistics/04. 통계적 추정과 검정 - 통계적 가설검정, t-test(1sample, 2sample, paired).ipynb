{
 "cells": [
  {
   "cell_type": "markdown",
   "id": "unknown-proof",
   "metadata": {},
   "source": [
    "## python 패키지 불러오기\n",
    "---"
   ]
  },
  {
   "cell_type": "code",
   "execution_count": 2,
   "id": "trying-carnival",
   "metadata": {},
   "outputs": [],
   "source": [
    "# 데이터 구성 패키지\n",
    "import pandas as pd\n",
    "\n",
    "# 행렬 연산 패키지\n",
    "import numpy as np\n",
    "\n",
    "# 데이터 시각화 패키지\n",
    "import matplotlib\n",
    "import matplotlib.pyplot as plt\n",
    "\n",
    "# 데이터 시각화(추세 등) 패키지\n",
    "import seaborn as sns\n",
    "\n",
    "# 통계 분석 패키지\n",
    "from scipy import stats\n",
    "import scipy.stats\n",
    "\n",
    "# 선형모델 formula\n",
    "import statsmodels.formula.api as smf\n",
    "import statsmodels.api as sm\n",
    "\n",
    "from statsmodels.stats.proportion import proportions_ztest\n",
    "from statsmodels.formula.api import ols\n",
    "from statsmodels.stats.anova import anova_lm\n",
    "\n",
    "\n",
    "%matplotlib inline"
   ]
  },
  {
   "cell_type": "code",
   "execution_count": 3,
   "id": "concerned-blame",
   "metadata": {},
   "outputs": [],
   "source": [
    "# matplotlib 패키지 한글 깨침 처리\n",
    "matplotlib.rc('font', family = 'AppleGothic')\n",
    "plt.rc('font', family = 'AppleGothic')"
   ]
  },
  {
   "cell_type": "markdown",
   "id": "renewable-convergence",
   "metadata": {},
   "source": [
    "# 0. 통계적 가설 검정\n",
    "---"
   ]
  },
  {
   "cell_type": "markdown",
   "id": "acceptable-superintendent",
   "metadata": {},
   "source": [
    "## ▪️ 절차\n",
    "### 1) 가설 수립\n",
    "- 가설 검정의 목적 확인\n",
    "- 주장하고자 하는 판단 결과를 대립가설(H1)로, 그 반대를 귀무가설(H0)으로 설정\n",
    "- 유의수준(α) 결정\n",
    "\n",
    "### 2) 가설 검정의 수행\n",
    "- 적절한 검정통계량 결정(t, F, x^)\n",
    "- 검정통계량 계산\n",
    "- p-value 계산\n",
    "\n",
    "### 3) 검정결과의 판단\n",
    "- 검정통계량과 임계값\n",
    "    - 검정통계량 > 임계값 : H0 기각\n",
    "    - 검정통계량 < 임계값 : H0 기각 불가\n",
    "- p-value와 유의수준(α)\n",
    "    - p-value < 유의수준(α) : H0 기각\n",
    "    - p-value > 유의수준(α) : H0 기각 불가"
   ]
  },
  {
   "cell_type": "markdown",
   "id": "nervous-maple",
   "metadata": {},
   "source": [
    "## ▪️ 가설\n",
    "### 1) H0 : 귀무가설(Null Hypothesis)\n",
    "- **기존의 사실에 대한 가설**\n",
    "- 검정통계량은 귀무가설의 분포에서 나옴\n",
    "- 검정의 대상으로 삼는 가설로, <u>영향을 주지 않는다는 입장</u>\n",
    "\n",
    "### 2) H1 : 대립가설(Alternative Hypothesis)\n",
    "- **새롭게 확인하고자 하는 사실에 대한 가설**\n",
    "- 검정통계량이 귀무가설에서 나왔다고 보기 어려운 경우(p-value가 작은 경우) 대립가설 선택\n",
    "- 귀무가설 부정하는 가설로, <u>영향을 준다는 입장</u>"
   ]
  },
  {
   "cell_type": "markdown",
   "id": "permanent-boards",
   "metadata": {},
   "source": [
    "## ▪️ 유의수준 (α)\n",
    "- 귀무가설을 기각한다는 결정을 내릴 때, 귀무가설을 기각하는 결정이 잘못될 수 있을 최대가능성(확률)\n",
    "- 1종 오류를 범할 확률의 최대 허용치"
   ]
  },
  {
   "cell_type": "markdown",
   "id": "retained-attempt",
   "metadata": {},
   "source": [
    "## ▪️ 임계값\n",
    "- 주어진 유의수준에서 귀무가설의 채택과 기각에 관련된 의사결정을 할 때, 그 기준이 되는 통계량 의미\n",
    "- 임계값을 중심으로 기무가설의 기각영역과 채택영역 결정"
   ]
  },
  {
   "cell_type": "markdown",
   "id": "retired-provincial",
   "metadata": {},
   "source": [
    "## ▪️ p-value\n",
    "- **귀무가설이 참이라는 가정하에 표본데이터가 귀무가설을 지지하는 확률**\n",
    "- p-value가 유의수준보다 작으면 귀무가설(H0)기각하고, 그렇지 않으면 귀무가설(H0) 기각하지 못함\n",
    "- **\"귀무가설을 기각할 수 없다.\" : 귀무가설이 옳다(X), 귀무가설 기각할 확실한 증거가 없다(O)**"
   ]
  },
  {
   "cell_type": "markdown",
   "id": "spanish-mount",
   "metadata": {},
   "source": [
    "## ▪️ 가설검정의 오류 (Testing Error)\n",
    "### 1) 제 1종 오류\n",
    "- 참인 귀무가설을 기각하고 대립가설 채택\n",
    "    - 실제로 죄가 없는데도 불구하고 유죄판결을 받음\n",
    "\n",
    "### 2) 제 2종 오류 \n",
    "- 거짓인 귀무가설을 기각하지 않고 귀무가설 유지\n",
    "    - 실제로 범죄를 저질렀는데 무죄판결을 받음"
   ]
  },
  {
   "cell_type": "markdown",
   "id": "employed-portal",
   "metadata": {},
   "source": [
    "|검정결과\\실제현상|H0 참|H1 참|\n",
    "|------|---|---|\n",
    "|귀무가설 H0 채택|옳은 결정|**제 2종 오류**|\n",
    "|대립가설 H1 채택|**제 1종 오류**|옳은 결정|"
   ]
  },
  {
   "cell_type": "markdown",
   "id": "professional-drill",
   "metadata": {},
   "source": [
    "<br>\n",
    "\n",
    "# 1. 평균검정 : t-test\n",
    "---"
   ]
  },
  {
   "cell_type": "markdown",
   "id": "incorporated-recommendation",
   "metadata": {},
   "source": [
    "## ▪️ 정의\n",
    "- 모집단에서 추출된 표본의 통계량(평균, 표준편차 등)을 이용하여 모집단의 평균의 차이에 대한 검정\n",
    "- 일반적으로는 **2집단의 평균의 차이가 유의한지**를 통계적으로 검정하는 기법"
   ]
  },
  {
   "cell_type": "markdown",
   "id": "incorporated-recommendation",
   "metadata": {},
   "source": [
    "## ▪️ 용도 및 활용\n",
    "- 모집단의 모수(평균, 평균의 차이)에 대한 가설 검정\n",
    "- 양측 및 단측 검정을 이용한 모수 검정"
   ]
  },
  {
   "cell_type": "markdown",
   "id": "incorporated-recommendation",
   "metadata": {},
   "source": [
    "## ▪️ 고려사항\n",
    "- 비교 집단의 분포 및 분산 확인\n",
    "    - 독립성\n",
    "    - 정규성\n",
    "    - 등분산성"
   ]
  },
  {
   "cell_type": "markdown",
   "id": "incorporated-recommendation",
   "metadata": {},
   "source": [
    "## ▪️ 검정절차\n",
    "### 1) 가설 수립 유의수준 설정\n",
    "- 귀무가설(H0) : 두 집단의 평균은 같다\n",
    "- 대립가설(H1) : 두 집단의 평균은 같지 않다\n",
    "- 유의수준 설정 : 0.1 or 0.05 or 0.01\n",
    "\n",
    "### 2) 가설검정 수행\n",
    "- 검정 통계량 값 계산\n",
    "    - 두 집단의 분산이 동일하다는 가정하에 t값 계산\n",
    "    - 두 집단의 분산이 동일하지 않다는 가정하에 t값 계산\n",
    "    \n",
    "### 3) 검정 결과 판단\n",
    "- 두 집단의 등분산 검정을 위한 검정통계량 F값 계산\n",
    "- 등분산 여부에 따른 t값 선택\n",
    "- t값의 통계적 유의성 검정 통해 가설을 기각하거나 채택"
   ]
  },
  {
   "cell_type": "markdown",
   "id": "incorporated-recommendation",
   "metadata": {},
   "source": [
    "## ▪️ t-test 종류\n",
    "### 1) 1-sample t-test\n",
    "- 한 집단의 평균이 특정 값과 같은지 비교\n",
    "    - 고객서비스 센터의 고객만족도 평균은 76.7이 맞는가?\n",
    "\n",
    "### 2) 2-sample t-test\n",
    "- 두 집단 간 평균이 같은지 비교\n",
    "    - 재료 A와 B로 만든 각 제품의 강도는 같은가?\n",
    "    \n",
    "### 3) paired t-test\n",
    "- 쌍을 이룬 두 집단간 평균이 같은지 비교\n",
    "    - 교육 전과 후의 시험 점수에 차이가 있는가?"
   ]
  },
  {
   "cell_type": "markdown",
   "id": "acceptable-wesley",
   "metadata": {},
   "source": [
    "<br>\n",
    "\n",
    "# 2. 1-sample t-test\n",
    "---"
   ]
  },
  {
   "cell_type": "markdown",
   "id": "material-whole",
   "metadata": {},
   "source": [
    "## ▪️ 정의\n",
    "- 단일 집단에 대한 모평균의 검정. 단일 집단의 평균이 기존에 주장하는 평균과 다른지에 대한 검정"
   ]
  },
  {
   "cell_type": "markdown",
   "id": "material-whole",
   "metadata": {},
   "source": [
    "## ▪️ 모평균의 구간 추정\n",
    "### 1) 모 표준편차를 아는 경우\n",
    "- Z 분포를 따름\n",
    "\n",
    "### 2) 모 표준편차를 모르는 경우\n",
    "- t분포를 따름"
   ]
  },
  {
   "cell_type": "markdown",
   "id": "configured-forge",
   "metadata": {},
   "source": [
    "<br>\n",
    "\n",
    "# 3. 연습 및 실습 (1-sample t-test)\n",
    "---"
   ]
  },
  {
   "cell_type": "markdown",
   "id": "smaller-confusion",
   "metadata": {},
   "source": [
    "## [연습1]\n",
    "- 고객만족도 평균 76.7\n",
    "- 개선활동이 만족도를 변화시켰는가? (유의수준 0.05)"
   ]
  },
  {
   "cell_type": "code",
   "execution_count": 4,
   "id": "anticipated-mercury",
   "metadata": {},
   "outputs": [
    {
     "name": "stdout",
     "output_type": "stream",
     "text": [
      "1-Sample t-test\n",
      "t 통계량 : [0.864]\n",
      "p-value : [0.41]\n"
     ]
    }
   ],
   "source": [
    "# df 입력\n",
    "df = pd.DataFrame({'Sample': [74.5, 81.2, 73.8, 82.0, 76.3, 75.7, 80.2, 72.6, 77.9, 82.8]})\n",
    "\n",
    "# 1-sample test\n",
    "t_result = stats.ttest_1samp(df, 76.7)\n",
    "\n",
    "# 1-sample t-test의 t값 p값 저장\n",
    "t,p = t_result.statistic.round(3),\\\n",
    "    t_result.pvalue.round(3)\n",
    "    \n",
    "# 1-sample t-test의 t값 p값 출력\n",
    "print(\"1-Sample t-test\")\n",
    "print(\"t 통계량 : {}\".format(t))\n",
    "print(\"p-value : {}\".format(p))"
   ]
  },
  {
   "cell_type": "markdown",
   "id": "alpine-forth",
   "metadata": {},
   "source": [
    "- 결론 : 유의수준 5%에서 검정결과 P값이 0.41이므로 개선활동이 고객만족도 변화를 시켰다고 할 수 없다."
   ]
  },
  {
   "cell_type": "markdown",
   "id": "hawaiian-richards",
   "metadata": {},
   "source": [
    "## [실습1]\n",
    "- 고객만족도 평균 78.0\n",
    "- 개선활동이 만족도를 변화시켰는가? (유의수준 0.05)"
   ]
  },
  {
   "cell_type": "code",
   "execution_count": 5,
   "id": "referenced-production",
   "metadata": {},
   "outputs": [
    {
     "name": "stdout",
     "output_type": "stream",
     "text": [
      "1-Sample t-test\n",
      "t 통계량 : [3.379]\n",
      "p-value : [0.008]\n"
     ]
    }
   ],
   "source": [
    "# df 입력\n",
    "df = pd.DataFrame({'Sample': [85.0, 79.0, 79.1, 79.9, 81.6, 78.6, 85.4, 83.4, 78.1, 79.2]})\n",
    "\n",
    "# 1-sample test\n",
    "t_result = stats.ttest_1samp(df, 78.0)\n",
    "\n",
    "# 1-sample t-test의 t값 p값 저장\n",
    "t,p = t_result.statistic.round(3),\\\n",
    "    t_result.pvalue.round(3)\n",
    "    \n",
    "# 1-sample t-test의 t값 p값 출력\n",
    "print(\"1-Sample t-test\")\n",
    "print(\"t 통계량 : {}\".format(t))\n",
    "print(\"p-value : {}\".format(p))"
   ]
  },
  {
   "cell_type": "markdown",
   "id": "introductory-owner",
   "metadata": {},
   "source": [
    "- 결론 : 유의수준 5%에서 검정결과 P값이 0.008이므로 개선활동이 고객만족도 변화를 시켰다고 할 수 없다."
   ]
  },
  {
   "cell_type": "markdown",
   "id": "acceptable-wesley",
   "metadata": {},
   "source": [
    "<br>\n",
    "\n",
    "# 4. 2-sample t-test\n",
    "---"
   ]
  },
  {
   "cell_type": "markdown",
   "id": "material-whole",
   "metadata": {},
   "source": [
    "## ▪️ 정의\n",
    "- 두 집단에 대한 평균 차이 검정\n",
    "- 두 확률표본은 두 모집단으로부터 각기 독립적으로 관측되었을 때 독립 2표본 검정 사용"
   ]
  },
  {
   "cell_type": "markdown",
   "id": "material-whole",
   "metadata": {},
   "source": [
    "## ▪️ 분석절차\n",
    "- 정규성 검정 : A.D normality test\n",
    "- 등분산성 검정(두 집단을 검정하기 때문에 두 집단 간의 분산이 동일한지 검정)\n",
    "    - F-test : 정규분포 따를 때\n",
    "    - Levene's test : 정규분포 따르지 않을 때"
   ]
  },
  {
   "cell_type": "markdown",
   "id": "material-whole",
   "metadata": {},
   "source": [
    "## ▪️ 평균 검정 방법\n",
    "- Student's T-test : 두 집단이 등분산일 경우\n",
    "- Welch's T-test : 두 집단의 분산이 같지 않을 경우"
   ]
  },
  {
   "cell_type": "markdown",
   "id": "material-whole",
   "metadata": {},
   "source": [
    "## ▪️ 가정\n",
    "- 각 데이터는 독립적이고 랜덤으로 샘플링 되어야 한다\n",
    "- 각 데이터는 두 그룹이 각각 정규분포를 한다\n",
    "- 각 그룹의 분산은 같다"
   ]
  },
  {
   "cell_type": "markdown",
   "id": "configured-forge",
   "metadata": {},
   "source": [
    "<br>\n",
    "\n",
    "# 5. 연습 및 실습 (2-sample t-test)\n",
    "---"
   ]
  },
  {
   "cell_type": "markdown",
   "id": "growing-tobacco",
   "metadata": {},
   "source": [
    "## [연습1]\n",
    "- 고객만족도 확인 위해 A고객, B고객에 대한 데이터 수집\n",
    "- A고객과 B고객의 모평균에 차이 있는지? (유의수준 0.05)"
   ]
  },
  {
   "cell_type": "code",
   "execution_count": 21,
   "id": "coated-memphis",
   "metadata": {},
   "outputs": [
    {
     "data": {
      "text/html": [
       "<div>\n",
       "<style scoped>\n",
       "    .dataframe tbody tr th:only-of-type {\n",
       "        vertical-align: middle;\n",
       "    }\n",
       "\n",
       "    .dataframe tbody tr th {\n",
       "        vertical-align: top;\n",
       "    }\n",
       "\n",
       "    .dataframe thead th {\n",
       "        text-align: right;\n",
       "    }\n",
       "</style>\n",
       "<table border=\"1\" class=\"dataframe\">\n",
       "  <thead>\n",
       "    <tr style=\"text-align: right;\">\n",
       "      <th></th>\n",
       "      <th>cust A</th>\n",
       "      <th>cust B</th>\n",
       "    </tr>\n",
       "  </thead>\n",
       "  <tbody>\n",
       "    <tr>\n",
       "      <th>0</th>\n",
       "      <td>6</td>\n",
       "      <td>7</td>\n",
       "    </tr>\n",
       "    <tr>\n",
       "      <th>1</th>\n",
       "      <td>5</td>\n",
       "      <td>5</td>\n",
       "    </tr>\n",
       "    <tr>\n",
       "      <th>2</th>\n",
       "      <td>5</td>\n",
       "      <td>7</td>\n",
       "    </tr>\n",
       "    <tr>\n",
       "      <th>3</th>\n",
       "      <td>4</td>\n",
       "      <td>8</td>\n",
       "    </tr>\n",
       "    <tr>\n",
       "      <th>4</th>\n",
       "      <td>6</td>\n",
       "      <td>7</td>\n",
       "    </tr>\n",
       "  </tbody>\n",
       "</table>\n",
       "</div>"
      ],
      "text/plain": [
       "   cust A  cust B\n",
       "0       6       7\n",
       "1       5       5\n",
       "2       5       7\n",
       "3       4       8\n",
       "4       6       7"
      ]
     },
     "execution_count": 21,
     "metadata": {},
     "output_type": "execute_result"
    }
   ],
   "source": [
    "# 데이터 가져오기\n",
    "df = pd.read_csv(\"../data/2sample.csv\")\n",
    "df.head()"
   ]
  },
  {
   "cell_type": "code",
   "execution_count": 22,
   "id": "streaming-necessity",
   "metadata": {},
   "outputs": [
    {
     "data": {
      "text/plain": [
       "<AxesSubplot:>"
      ]
     },
     "execution_count": 22,
     "metadata": {},
     "output_type": "execute_result"
    },
    {
     "data": {
      "image/png": "[encoded data removed]",
      "text/plain": [
       "<Figure size 432x288 with 1 Axes>"
      ]
     },
     "metadata": {
      "needs_background": "light"
     },
     "output_type": "display_data"
    }
   ],
   "source": [
    "# box-plot\n",
    "df.boxplot(['cust A', 'cust B'])"
   ]
  },
  {
   "cell_type": "code",
   "execution_count": 23,
   "id": "exciting-production",
   "metadata": {},
   "outputs": [],
   "source": [
    "from scipy.stats import shapiro"
   ]
  },
  {
   "cell_type": "code",
   "execution_count": 24,
   "id": "departmental-monthly",
   "metadata": {},
   "outputs": [
    {
     "name": "stdout",
     "output_type": "stream",
     "text": [
      "statistic=0.9094840288162231, p-value=0.06230909377336502\n"
     ]
    }
   ],
   "source": [
    "# cust A : 정규성 검정\n",
    "statistic, p = stats.shapiro(df['cust A'])\n",
    "print(\"statistic={}, p-value={}\".format(statistic, p))"
   ]
  },
  {
   "cell_type": "code",
   "execution_count": 25,
   "id": "through-coordination",
   "metadata": {},
   "outputs": [
    {
     "name": "stdout",
     "output_type": "stream",
     "text": [
      "statistic=0.9119446873664856, p-value=0.06941930204629898\n"
     ]
    }
   ],
   "source": [
    "# cust B : 정규성 검정\n",
    "statistic, p = stats.shapiro(df['cust B'])\n",
    "print(\"statistic={}, p-value={}\".format(statistic, p))"
   ]
  },
  {
   "cell_type": "code",
   "execution_count": 26,
   "id": "southwest-ceiling",
   "metadata": {},
   "outputs": [
    {
     "data": {
      "text/plain": [
       "LeveneResult(statistic=0.04810126582278468, pvalue=0.8275746090758196)"
      ]
     },
     "execution_count": 26,
     "metadata": {},
     "output_type": "execute_result"
    }
   ],
   "source": [
    "# 등분산성 검정(levene : 정규분포 따르지 않을 때)\n",
    "stats.levene(df['cust A'], df['cust B'])"
   ]
  },
  {
   "cell_type": "markdown",
   "id": "split-graphic",
   "metadata": {},
   "source": [
    "- p-value가 0.83이므로, 두 집단의 분산은 같다고 할 수 있다."
   ]
  },
  {
   "cell_type": "code",
   "execution_count": 27,
   "id": "spread-noise",
   "metadata": {},
   "outputs": [
    {
     "name": "stdout",
     "output_type": "stream",
     "text": [
      "1-Sample t-test\n",
      "t 검정통계량 : -3.596\n",
      "p-value : 0.001\n"
     ]
    }
   ],
   "source": [
    "# 2-Sample t-test\n",
    "t_result = stats.ttest_ind(df['cust A'], df['cust B'])\n",
    "\n",
    "# 2-Sample t-test의 t값 p값 저장\n",
    "t, p = t_result.statistic.round(3), t_result.pvalue.round(3)\n",
    "\n",
    "# 2-Sample t-test의 t값 p값 출력\n",
    "print('1-Sample t-test')\n",
    "print('t 검정통계량 : {}'.format(t))\n",
    "print('p-value : {}'.format(p))"
   ]
  },
  {
   "cell_type": "markdown",
   "id": "unavailable-asbestos",
   "metadata": {},
   "source": [
    "- 결론 : 유의수준 5%에서 검정통계량 p값이 0.001이므로 고객간에 고객만족도의 차이가 있다."
   ]
  },
  {
   "cell_type": "markdown",
   "id": "classical-blowing",
   "metadata": {},
   "source": [
    "## [실습1] \n",
    "- 제품 두께 측정 위해 A공급자, B공급자에 대한 데이터 수집\n",
    "- A공급자와 B공급자 간에 모평균에 차이 있는지? (유의수준 0.05)"
   ]
  },
  {
   "cell_type": "code",
   "execution_count": 13,
   "id": "united-charge",
   "metadata": {},
   "outputs": [
    {
     "data": {
      "text/html": [
       "<div>\n",
       "<style scoped>\n",
       "    .dataframe tbody tr th:only-of-type {\n",
       "        vertical-align: middle;\n",
       "    }\n",
       "\n",
       "    .dataframe tbody tr th {\n",
       "        vertical-align: top;\n",
       "    }\n",
       "\n",
       "    .dataframe thead th {\n",
       "        text-align: right;\n",
       "    }\n",
       "</style>\n",
       "<table border=\"1\" class=\"dataframe\">\n",
       "  <thead>\n",
       "    <tr style=\"text-align: right;\">\n",
       "      <th></th>\n",
       "      <th>A</th>\n",
       "      <th>B</th>\n",
       "    </tr>\n",
       "  </thead>\n",
       "  <tbody>\n",
       "    <tr>\n",
       "      <th>0</th>\n",
       "      <td>1.883</td>\n",
       "      <td>1.435</td>\n",
       "    </tr>\n",
       "    <tr>\n",
       "      <th>1</th>\n",
       "      <td>1.715</td>\n",
       "      <td>1.572</td>\n",
       "    </tr>\n",
       "    <tr>\n",
       "      <th>2</th>\n",
       "      <td>1.799</td>\n",
       "      <td>1.486</td>\n",
       "    </tr>\n",
       "    <tr>\n",
       "      <th>3</th>\n",
       "      <td>1.768</td>\n",
       "      <td>1.511</td>\n",
       "    </tr>\n",
       "    <tr>\n",
       "      <th>4</th>\n",
       "      <td>1.711</td>\n",
       "      <td>1.457</td>\n",
       "    </tr>\n",
       "  </tbody>\n",
       "</table>\n",
       "</div>"
      ],
      "text/plain": [
       "       A      B\n",
       "0  1.883  1.435\n",
       "1  1.715  1.572\n",
       "2  1.799  1.486\n",
       "3  1.768  1.511\n",
       "4  1.711  1.457"
      ]
     },
     "execution_count": 13,
     "metadata": {},
     "output_type": "execute_result"
    }
   ],
   "source": [
    "# 데이터 가져오기\n",
    "df = pd.read_csv(\"../data/2sample_ex.csv\")\n",
    "df.head()"
   ]
  },
  {
   "cell_type": "code",
   "execution_count": 14,
   "id": "cutting-question",
   "metadata": {},
   "outputs": [
    {
     "data": {
      "text/plain": [
       "<AxesSubplot:>"
      ]
     },
     "execution_count": 14,
     "metadata": {},
     "output_type": "execute_result"
    },
    {
     "data": {
      "image/png": "[encoded data removed]",
      "text/plain": [
       "<Figure size 432x288 with 1 Axes>"
      ]
     },
     "metadata": {
      "needs_background": "light"
     },
     "output_type": "display_data"
    }
   ],
   "source": [
    "# box-plot\n",
    "df.boxplot(['A', 'B'])"
   ]
  },
  {
   "cell_type": "code",
   "execution_count": 15,
   "id": "double-journal",
   "metadata": {},
   "outputs": [],
   "source": [
    "from scipy.stats import shapiro"
   ]
  },
  {
   "cell_type": "code",
   "execution_count": 16,
   "id": "ecological-latex",
   "metadata": {},
   "outputs": [
    {
     "name": "stdout",
     "output_type": "stream",
     "text": [
      "statistic=0.8425756096839905, p-value=0.08004552870988846\n"
     ]
    }
   ],
   "source": [
    "# A : 정규성 검정\n",
    "statistic, p = stats.shapiro(df['A'])\n",
    "print(\"statistic={}, p-value={}\".format(statistic, p))"
   ]
  },
  {
   "cell_type": "code",
   "execution_count": 17,
   "id": "sophisticated-thunder",
   "metadata": {},
   "outputs": [
    {
     "name": "stdout",
     "output_type": "stream",
     "text": [
      "statistic=0.7734811902046204, p-value=0.014793740585446358\n"
     ]
    }
   ],
   "source": [
    "# B : 정규성 검정\n",
    "statistic, p = stats.shapiro(df['B'])\n",
    "print(\"statistic={}, p-value={}\".format(statistic, p))"
   ]
  },
  {
   "cell_type": "code",
   "execution_count": 18,
   "id": "informed-challenge",
   "metadata": {},
   "outputs": [
    {
     "data": {
      "text/plain": [
       "LeveneResult(statistic=0.4408416728536036, pvalue=0.5175025061092301)"
      ]
     },
     "execution_count": 18,
     "metadata": {},
     "output_type": "execute_result"
    }
   ],
   "source": [
    "# 등분산성 검정\n",
    "stats.levene(df['A'], df['B'])"
   ]
  },
  {
   "cell_type": "markdown",
   "id": "killing-brooklyn",
   "metadata": {},
   "source": [
    "- p-value가 0.52이므로, 두 집단의 분산은 같다고 할 수 있다."
   ]
  },
  {
   "cell_type": "code",
   "execution_count": 19,
   "id": "satisfied-dubai",
   "metadata": {},
   "outputs": [
    {
     "name": "stdout",
     "output_type": "stream",
     "text": [
      "1-Sample t-test\n",
      "t 검정통계량 : 1.7\n",
      "p-value : 0.111\n"
     ]
    }
   ],
   "source": [
    "# 2-Sample t-test\n",
    "t_result = stats.ttest_ind(df['A'], df['B'])\n",
    "\n",
    "# 2-Sample t-test의 t값 p값 저장\n",
    "t, p = t_result.statistic.round(3), t_result.pvalue.round(3)\n",
    "\n",
    "# 2-Sample t-test의 t값 p값 출력\n",
    "print('1-Sample t-test')\n",
    "print('t 검정통계량 : {}'.format(t))\n",
    "print('p-value : {}'.format(p))"
   ]
  },
  {
   "cell_type": "markdown",
   "id": "cordless-freeze",
   "metadata": {},
   "source": [
    "- 결론 : 유의수준 5%에서 검정통계량 p값이 0.111이므로 공급자간 모평균의 차이가 있다고 볼 수 없다."
   ]
  },
  {
   "cell_type": "markdown",
   "id": "acceptable-wesley",
   "metadata": {},
   "source": [
    "<br>\n",
    "\n",
    "# 6. Paired t-test\n",
    "---"
   ]
  },
  {
   "cell_type": "markdown",
   "id": "material-whole",
   "metadata": {},
   "source": [
    "## ▪️ 정의\n",
    "- 앞/뒤, 전/후 간의 비교를 하여 차이가 있는지 검정\n",
    "- paired t-test는 하나의 단위의 차이를 검정한다! (2sample t-test는 집단의 차이를 검정함)"
   ]
  },
  {
   "cell_type": "markdown",
   "id": "material-whole",
   "metadata": {},
   "source": [
    "## ▪️ 가정\n",
    "- 종속변수는 연속형 변수여야 한다(등간/비율)\n",
    "- 변수는 서로 독립적이다\n",
    "- 종속변수는 대략적으로 정규 분포 따라야 한다\n",
    "- 종속변수는 이상치를 포함하지 않아야 한다"
   ]
  },
  {
   "cell_type": "markdown",
   "id": "configured-forge",
   "metadata": {},
   "source": [
    "<br>\n",
    "\n",
    "# 7. 연습 및 실습 (Paired t-test)\n",
    "---"
   ]
  },
  {
   "cell_type": "markdown",
   "id": "beautiful-worst",
   "metadata": {},
   "source": [
    "## [연습1]\n",
    "- 회사원 10명\n",
    "- 회사원들의 성적은 학원가기 전후에 대해 차이가 있는지 검정"
   ]
  },
  {
   "cell_type": "code",
   "execution_count": 28,
   "id": "rapid-hearing",
   "metadata": {},
   "outputs": [
    {
     "name": "stdout",
     "output_type": "stream",
     "text": [
      "Paired t-test\n",
      "t검정통계량=-5.324, p-value=0.000\n"
     ]
    }
   ],
   "source": [
    "# 데이터 가져오기\n",
    "df = pd.read_csv(\"../data/paired.csv\")\n",
    "df.head()\n",
    "\n",
    "# paired t-test\n",
    "t_result = stats.ttest_rel(df['before'], df['after'])\n",
    "\n",
    "# 2-sample t-test의 t ,p값 저장\n",
    "t,p = t_result.statistic.round(3), t_result.pvalue.round(3)\n",
    "\n",
    "# 2-sample t-test의 t,p값 출력\n",
    "print(\"Paired t-test\")\n",
    "print(\"t검정통계량=%.3f, p-value=%.3f\" %t_result)"
   ]
  },
  {
   "cell_type": "markdown",
   "id": "smart-queen",
   "metadata": {},
   "source": [
    "- 결론 : 유의수준 5%에서 검정결과 p값이 0.000이므로 학원 수강 전후의 점수 차이가 있다고 할 수 있다."
   ]
  },
  {
   "cell_type": "code",
   "execution_count": 29,
   "id": "declared-cruise",
   "metadata": {},
   "outputs": [],
   "source": [
    "############ NOTE ##################\n",
    "# 헷갈릴 땐 적으면서 정리를 해 보자..\n",
    "\n",
    "# p-value가 유의수준보다 '작으면' 귀무가설 기각한다.\n",
    "\n",
    "# 귀무가설(H0)은 기존에 지지하던 이론.\n",
    "# 대립가설(H1)은 새롭게 지지하고자 하는 이론으로, 학원가기 전후에 차이가 있다는 것!\n",
    "\n",
    "# 이 문제에서, 검정결과를 살펴보면 p-value의 값이 0으로 유의수준 0.05보다 작으므로 귀무가설 기각되고, 대립가설 채택된다!\n",
    "\n",
    "## 따라서, 학원 수강 전후의 점수차이가 있는 것!"
   ]
  },
  {
   "cell_type": "markdown",
   "id": "indirect-ordering",
   "metadata": {},
   "source": [
    "## [실습1]\n",
    "- 회사원 10명\n",
    "- 회사원들의 성적은 학원가기 전후에 대해 차이가 있는지 검정"
   ]
  },
  {
   "cell_type": "code",
   "execution_count": 127,
   "id": "sorted-charter",
   "metadata": {},
   "outputs": [
    {
     "name": "stdout",
     "output_type": "stream",
     "text": [
      "Paired t-test\n",
      "t검정통계량=-2.266, p-value=0.050\n"
     ]
    }
   ],
   "source": [
    "# 데이터 가져오기\n",
    "df = pd.read_csv(\"./data/paired2.csv\")\n",
    "df.head()\n",
    "\n",
    "# paired t-test\n",
    "t_result = stats.ttest_rel(df['before'], df['after'])\n",
    "\n",
    "# 2-sample t-test의 t ,p값 저장\n",
    "t,p = t_result.statistic.round(3), t_result.pvalue.round(3)\n",
    "\n",
    "# 2-sample t-test의 t,p값 출력\n",
    "print(\"Paired t-test\")\n",
    "print(\"t검정통계량=%.3f, p-value=%.3f\" %t_result)"
   ]
  },
  {
   "cell_type": "markdown",
   "id": "civilian-teach",
   "metadata": {},
   "source": [
    "- 결론 : 유의수준 5%에서 검정결과 p값이 0.050이므로 학원 수강 전후의 점수 차이가 있다고 할 수 없다."
   ]
  },
  {
   "cell_type": "code",
   "execution_count": null,
   "id": "eleven-secretary",
   "metadata": {},
   "outputs": [],
   "source": []
  }
 ],
 "metadata": {
  "kernelspec": {
   "display_name": "Python 3",
   "language": "python",
   "name": "python3"
  },
  "language_info": {
   "codemirror_mode": {
    "name": "ipython",
    "version": 3
   },
   "file_extension": ".py",
   "mimetype": "text/x-python",
   "name": "python",
   "nbconvert_exporter": "python",
   "pygments_lexer": "ipython3",
   "version": "3.9.1"
  },
  "toc": {
   "base_numbering": 1,
   "nav_menu": {},
   "number_sections": false,
   "sideBar": true,
   "skip_h1_title": false,
   "title_cell": "Table of Contents",
   "title_sidebar": "Contents",
   "toc_cell": false,
   "toc_position": {
    "height": "calc(100% - 180px)",
    "left": "10px",
    "top": "150px",
    "width": "165px"
   },
   "toc_section_display": true,
   "toc_window_display": true
  },
  "varInspector": {
   "cols": {
    "lenName": 16,
    "lenType": 16,
    "lenVar": 40
   },
   "kernels_config": {
    "python": {
     "delete_cmd_postfix": "",
     "delete_cmd_prefix": "del ",
     "library": "var_list.py",
     "varRefreshCmd": "print(var_dic_list())"
    },
    "r": {
     "delete_cmd_postfix": ") ",
     "delete_cmd_prefix": "rm(",
     "library": "var_list.r",
     "varRefreshCmd": "cat(var_dic_list()) "
    }
   },
   "types_to_exclude": [
    "module",
    "function",
    "builtin_function_or_method",
    "instance",
    "_Feature"
   ],
   "window_display": false
  }
 },
 "nbformat": 4,
 "nbformat_minor": 5
}
